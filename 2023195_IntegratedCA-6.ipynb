{
 "cells": [
  {
   "cell_type": "markdown",
   "id": "d90096d5",
   "metadata": {},
   "source": [
    "## Assessment Title: Integrated CA \n",
    "\n",
    "## Lecturer Name: David McQuaid & Muhammad Iqbal\n",
    "\n",
    "## Student Full Name & Student ID:  Deniz OZSOY UGUR - 2023195 "
   ]
  },
  {
   "cell_type": "markdown",
   "id": "74315473",
   "metadata": {},
   "source": [
    "### Link to Dataset\n",
    "\n",
    " ProjectTweets.csv"
   ]
  },
  {
   "cell_type": "markdown",
   "id": "b4114446",
   "metadata": {},
   "source": [
    "### GitHub Repository: \n",
    "\n",
    "CCT-Dublin Link:\n",
    "\n",
    "https://github.com/CCT-Dublin/adv-data-big-data-ft-ca2-denizozsoyugur\n",
    "\n",
    "The link used since the beginning of the project:\n",
    "\n",
    "https://github.com/denizozsoyugur/2023195_IntegratedCA2\n",
    "\n"
   ]
  },
  {
   "cell_type": "markdown",
   "id": "22fb59fe",
   "metadata": {},
   "source": [
    "## Inital Data Processing"
   ]
  },
  {
   "cell_type": "code",
   "execution_count": 1,
   "id": "6267ec4c",
   "metadata": {},
   "outputs": [],
   "source": [
    "#pip install statsmodels"
   ]
  },
  {
   "cell_type": "code",
   "execution_count": 2,
   "id": "0a9e17d1",
   "metadata": {},
   "outputs": [],
   "source": [
    "#pip install pandas matplotlib"
   ]
  },
  {
   "cell_type": "code",
   "execution_count": 3,
   "id": "6115c8f9",
   "metadata": {},
   "outputs": [],
   "source": [
    "#pip install dash dash-core-components dash-html-components dash-table plotly"
   ]
  },
  {
   "cell_type": "code",
   "execution_count": 4,
   "id": "b21d5e08",
   "metadata": {},
   "outputs": [],
   "source": [
    "#pip install dash-bootstrap-components"
   ]
  },
  {
   "cell_type": "code",
   "execution_count": 5,
   "id": "629043b1",
   "metadata": {},
   "outputs": [],
   "source": [
    "#pip install plotly"
   ]
  },
  {
   "cell_type": "code",
   "execution_count": 6,
   "id": "fd3f9f2b",
   "metadata": {},
   "outputs": [],
   "source": [
    "#pip install numpy"
   ]
  },
  {
   "cell_type": "code",
   "execution_count": 7,
   "id": "011e9601",
   "metadata": {},
   "outputs": [],
   "source": [
    "#pip install pandas"
   ]
  },
  {
   "cell_type": "code",
   "execution_count": 8,
   "id": "e5417e28",
   "metadata": {},
   "outputs": [],
   "source": [
    "#pip install pmdarima"
   ]
  },
  {
   "cell_type": "code",
   "execution_count": 9,
   "id": "929da3cf",
   "metadata": {},
   "outputs": [],
   "source": [
    "#pip install transformers"
   ]
  },
  {
   "cell_type": "code",
   "execution_count": 10,
   "id": "3ce17336",
   "metadata": {},
   "outputs": [],
   "source": [
    "#pip install --upgrade transformers"
   ]
  },
  {
   "cell_type": "code",
   "execution_count": 11,
   "id": "bc775d31",
   "metadata": {},
   "outputs": [],
   "source": [
    "#pip install numpy==1.24.0"
   ]
  },
  {
   "cell_type": "code",
   "execution_count": 12,
   "id": "0dc502f6",
   "metadata": {},
   "outputs": [],
   "source": [
    "#pip install mysql-connector-python"
   ]
  },
  {
   "cell_type": "code",
   "execution_count": 13,
   "id": "05d19a1b",
   "metadata": {},
   "outputs": [],
   "source": [
    "#pip install -U pandas==1.5.3"
   ]
  },
  {
   "cell_type": "code",
   "execution_count": 14,
   "id": "353d7e54",
   "metadata": {},
   "outputs": [],
   "source": [
    "#pip install tf-keras"
   ]
  },
  {
   "cell_type": "code",
   "execution_count": 15,
   "id": "e83861ed",
   "metadata": {},
   "outputs": [],
   "source": [
    "# Import libraries\n",
    "\n",
    "import numpy as np\n",
    "import pandas as pd\n",
    "import plotly.express as px\n",
    "import calendar\n",
    "from transformers import pipeline\n",
    "import re\n",
    "\n",
    "from dateutil.parser import parse \n",
    "import matplotlib as mpl\n",
    "\n",
    "import numpy as np\n",
    "import matplotlib.pyplot as plt"
   ]
  },
  {
   "cell_type": "raw",
   "id": "74212291",
   "metadata": {},
   "source": [
    "from pyspark.ml import Pipeline\n",
    "from pyspark.ml.classification import LogisticRegression\n",
    "from pyspark.ml.evaluation import BinaryClassificationEvaluator\n",
    "from pyspark.ml.feature import HashingTF, Tokenizer\n",
    "from pyspark.ml.tuning import CrossValidator, ParamGridBuilder\n",
    "from pyspark.sql.functions import udf\n",
    "from pyspark.sql.types import StringType\n",
    "from pyspark.sql import SparkSession\n",
    "import mysql.connector\n",
    "import pandas as pd\n",
    "from pyspark.sql.functions import udf\n",
    "from pyspark.sql.types import StringType\n",
    "from pyspark.sql.types import StructType, StructField, StringType, IntegerType"
   ]
  },
  {
   "cell_type": "code",
   "execution_count": 16,
   "id": "18fd609e",
   "metadata": {},
   "outputs": [],
   "source": [
    "# warnings\n",
    "import warnings\n",
    "warnings.filterwarnings('ignore')"
   ]
  },
  {
   "cell_type": "raw",
   "id": "e5338c1e",
   "metadata": {},
   "source": [
    "    • ids: The id of the tweet (eg. 4587)\n",
    "    \n",
    "    • date: the date of the tweet (eg. Sat May 16 23:58:44 UTC 2009)\n",
    "    \n",
    "    • flag: The query (eg. lyx). If there is no query, then this value is NO_QUERY.\n",
    "    \n",
    "    • user: the user that tweeted (eg. bobthebuilder)\n",
    "    \n",
    "    • text: the text of the tweet (eg. Lyx is cool)"
   ]
  },
  {
   "cell_type": "code",
   "execution_count": 17,
   "id": "2e8c3e6f",
   "metadata": {},
   "outputs": [
    {
     "data": {
      "text/html": [
       "<div>\n",
       "<style scoped>\n",
       "    .dataframe tbody tr th:only-of-type {\n",
       "        vertical-align: middle;\n",
       "    }\n",
       "\n",
       "    .dataframe tbody tr th {\n",
       "        vertical-align: top;\n",
       "    }\n",
       "\n",
       "    .dataframe thead th {\n",
       "        text-align: right;\n",
       "    }\n",
       "</style>\n",
       "<table border=\"1\" class=\"dataframe\">\n",
       "  <thead>\n",
       "    <tr style=\"text-align: right;\">\n",
       "      <th></th>\n",
       "      <th>0</th>\n",
       "      <th>1467810369</th>\n",
       "      <th>Mon Apr 06 22:19:45 PDT 2009</th>\n",
       "      <th>NO_QUERY</th>\n",
       "      <th>_TheSpecialOne_</th>\n",
       "      <th>@switchfoot http://twitpic.com/2y1zl - Awww, that's a bummer.  You shoulda got David Carr of Third Day to do it. ;D</th>\n",
       "    </tr>\n",
       "  </thead>\n",
       "  <tbody>\n",
       "    <tr>\n",
       "      <th>0</th>\n",
       "      <td>1</td>\n",
       "      <td>1467810672</td>\n",
       "      <td>Mon Apr 06 22:19:49 PDT 2009</td>\n",
       "      <td>NO_QUERY</td>\n",
       "      <td>scotthamilton</td>\n",
       "      <td>is upset that he can't update his Facebook by ...</td>\n",
       "    </tr>\n",
       "    <tr>\n",
       "      <th>1</th>\n",
       "      <td>2</td>\n",
       "      <td>1467810917</td>\n",
       "      <td>Mon Apr 06 22:19:53 PDT 2009</td>\n",
       "      <td>NO_QUERY</td>\n",
       "      <td>mattycus</td>\n",
       "      <td>@Kenichan I dived many times for the ball. Man...</td>\n",
       "    </tr>\n",
       "    <tr>\n",
       "      <th>2</th>\n",
       "      <td>3</td>\n",
       "      <td>1467811184</td>\n",
       "      <td>Mon Apr 06 22:19:57 PDT 2009</td>\n",
       "      <td>NO_QUERY</td>\n",
       "      <td>ElleCTF</td>\n",
       "      <td>my whole body feels itchy and like its on fire</td>\n",
       "    </tr>\n",
       "    <tr>\n",
       "      <th>3</th>\n",
       "      <td>4</td>\n",
       "      <td>1467811193</td>\n",
       "      <td>Mon Apr 06 22:19:57 PDT 2009</td>\n",
       "      <td>NO_QUERY</td>\n",
       "      <td>Karoli</td>\n",
       "      <td>@nationwideclass no, it's not behaving at all....</td>\n",
       "    </tr>\n",
       "    <tr>\n",
       "      <th>4</th>\n",
       "      <td>5</td>\n",
       "      <td>1467811372</td>\n",
       "      <td>Mon Apr 06 22:20:00 PDT 2009</td>\n",
       "      <td>NO_QUERY</td>\n",
       "      <td>joy_wolf</td>\n",
       "      <td>@Kwesidei not the whole crew</td>\n",
       "    </tr>\n",
       "  </tbody>\n",
       "</table>\n",
       "</div>"
      ],
      "text/plain": [
       "   0  1467810369  Mon Apr 06 22:19:45 PDT 2009  NO_QUERY _TheSpecialOne_  \\\n",
       "0  1  1467810672  Mon Apr 06 22:19:49 PDT 2009  NO_QUERY   scotthamilton   \n",
       "1  2  1467810917  Mon Apr 06 22:19:53 PDT 2009  NO_QUERY        mattycus   \n",
       "2  3  1467811184  Mon Apr 06 22:19:57 PDT 2009  NO_QUERY         ElleCTF   \n",
       "3  4  1467811193  Mon Apr 06 22:19:57 PDT 2009  NO_QUERY          Karoli   \n",
       "4  5  1467811372  Mon Apr 06 22:20:00 PDT 2009  NO_QUERY        joy_wolf   \n",
       "\n",
       "  @switchfoot http://twitpic.com/2y1zl - Awww, that's a bummer.  You shoulda got David Carr of Third Day to do it. ;D  \n",
       "0  is upset that he can't update his Facebook by ...                                                                   \n",
       "1  @Kenichan I dived many times for the ball. Man...                                                                   \n",
       "2    my whole body feels itchy and like its on fire                                                                    \n",
       "3  @nationwideclass no, it's not behaving at all....                                                                   \n",
       "4                      @Kwesidei not the whole crew                                                                    "
      ]
     },
     "execution_count": 17,
     "metadata": {},
     "output_type": "execute_result"
    }
   ],
   "source": [
    "df = pd.read_csv(\"ProjectTweets.csv\")\n",
    "df.head()"
   ]
  },
  {
   "cell_type": "code",
   "execution_count": 18,
   "id": "a62b9c77",
   "metadata": {},
   "outputs": [],
   "source": [
    "df.columns = ['index', 'id', 'date', 'flag', 'user', 'text']"
   ]
  },
  {
   "cell_type": "code",
   "execution_count": 19,
   "id": "d2d964bb",
   "metadata": {},
   "outputs": [],
   "source": [
    "df = df.iloc[:,1:]"
   ]
  },
  {
   "cell_type": "code",
   "execution_count": 20,
   "id": "941880f7",
   "metadata": {},
   "outputs": [
    {
     "data": {
      "text/html": [
       "<div>\n",
       "<style scoped>\n",
       "    .dataframe tbody tr th:only-of-type {\n",
       "        vertical-align: middle;\n",
       "    }\n",
       "\n",
       "    .dataframe tbody tr th {\n",
       "        vertical-align: top;\n",
       "    }\n",
       "\n",
       "    .dataframe thead th {\n",
       "        text-align: right;\n",
       "    }\n",
       "</style>\n",
       "<table border=\"1\" class=\"dataframe\">\n",
       "  <thead>\n",
       "    <tr style=\"text-align: right;\">\n",
       "      <th></th>\n",
       "      <th>id</th>\n",
       "      <th>date</th>\n",
       "      <th>flag</th>\n",
       "      <th>user</th>\n",
       "      <th>text</th>\n",
       "    </tr>\n",
       "  </thead>\n",
       "  <tbody>\n",
       "    <tr>\n",
       "      <th>count</th>\n",
       "      <td>1.599999e+06</td>\n",
       "      <td>1599999</td>\n",
       "      <td>1599999</td>\n",
       "      <td>1599999</td>\n",
       "      <td>1599999</td>\n",
       "    </tr>\n",
       "    <tr>\n",
       "      <th>unique</th>\n",
       "      <td>NaN</td>\n",
       "      <td>774362</td>\n",
       "      <td>1</td>\n",
       "      <td>659775</td>\n",
       "      <td>1581465</td>\n",
       "    </tr>\n",
       "    <tr>\n",
       "      <th>top</th>\n",
       "      <td>NaN</td>\n",
       "      <td>Mon Jun 15 12:53:14 PDT 2009</td>\n",
       "      <td>NO_QUERY</td>\n",
       "      <td>lost_dog</td>\n",
       "      <td>isPlayer Has Died! Sorry</td>\n",
       "    </tr>\n",
       "    <tr>\n",
       "      <th>freq</th>\n",
       "      <td>NaN</td>\n",
       "      <td>20</td>\n",
       "      <td>1599999</td>\n",
       "      <td>549</td>\n",
       "      <td>210</td>\n",
       "    </tr>\n",
       "    <tr>\n",
       "      <th>mean</th>\n",
       "      <td>1.998818e+09</td>\n",
       "      <td>NaN</td>\n",
       "      <td>NaN</td>\n",
       "      <td>NaN</td>\n",
       "      <td>NaN</td>\n",
       "    </tr>\n",
       "    <tr>\n",
       "      <th>std</th>\n",
       "      <td>1.935757e+08</td>\n",
       "      <td>NaN</td>\n",
       "      <td>NaN</td>\n",
       "      <td>NaN</td>\n",
       "      <td>NaN</td>\n",
       "    </tr>\n",
       "    <tr>\n",
       "      <th>min</th>\n",
       "      <td>1.467811e+09</td>\n",
       "      <td>NaN</td>\n",
       "      <td>NaN</td>\n",
       "      <td>NaN</td>\n",
       "      <td>NaN</td>\n",
       "    </tr>\n",
       "    <tr>\n",
       "      <th>25%</th>\n",
       "      <td>1.956916e+09</td>\n",
       "      <td>NaN</td>\n",
       "      <td>NaN</td>\n",
       "      <td>NaN</td>\n",
       "      <td>NaN</td>\n",
       "    </tr>\n",
       "    <tr>\n",
       "      <th>50%</th>\n",
       "      <td>2.002102e+09</td>\n",
       "      <td>NaN</td>\n",
       "      <td>NaN</td>\n",
       "      <td>NaN</td>\n",
       "      <td>NaN</td>\n",
       "    </tr>\n",
       "    <tr>\n",
       "      <th>75%</th>\n",
       "      <td>2.177059e+09</td>\n",
       "      <td>NaN</td>\n",
       "      <td>NaN</td>\n",
       "      <td>NaN</td>\n",
       "      <td>NaN</td>\n",
       "    </tr>\n",
       "    <tr>\n",
       "      <th>max</th>\n",
       "      <td>2.329206e+09</td>\n",
       "      <td>NaN</td>\n",
       "      <td>NaN</td>\n",
       "      <td>NaN</td>\n",
       "      <td>NaN</td>\n",
       "    </tr>\n",
       "  </tbody>\n",
       "</table>\n",
       "</div>"
      ],
      "text/plain": [
       "                  id                          date      flag      user  \\\n",
       "count   1.599999e+06                       1599999   1599999   1599999   \n",
       "unique           NaN                        774362         1    659775   \n",
       "top              NaN  Mon Jun 15 12:53:14 PDT 2009  NO_QUERY  lost_dog   \n",
       "freq             NaN                            20   1599999       549   \n",
       "mean    1.998818e+09                           NaN       NaN       NaN   \n",
       "std     1.935757e+08                           NaN       NaN       NaN   \n",
       "min     1.467811e+09                           NaN       NaN       NaN   \n",
       "25%     1.956916e+09                           NaN       NaN       NaN   \n",
       "50%     2.002102e+09                           NaN       NaN       NaN   \n",
       "75%     2.177059e+09                           NaN       NaN       NaN   \n",
       "max     2.329206e+09                           NaN       NaN       NaN   \n",
       "\n",
       "                             text  \n",
       "count                     1599999  \n",
       "unique                    1581465  \n",
       "top     isPlayer Has Died! Sorry   \n",
       "freq                          210  \n",
       "mean                          NaN  \n",
       "std                           NaN  \n",
       "min                           NaN  \n",
       "25%                           NaN  \n",
       "50%                           NaN  \n",
       "75%                           NaN  \n",
       "max                           NaN  "
      ]
     },
     "execution_count": 20,
     "metadata": {},
     "output_type": "execute_result"
    }
   ],
   "source": [
    "df.describe(include = 'all')"
   ]
  },
  {
   "cell_type": "code",
   "execution_count": 21,
   "id": "0780d4b6",
   "metadata": {},
   "outputs": [],
   "source": [
    "df.iloc[:,4:] = df.iloc[:,4:].apply(lambda x: x.str.replace(r'[^A-Za-z0-9]+',''))"
   ]
  },
  {
   "cell_type": "code",
   "execution_count": 22,
   "id": "cb3d4fbe",
   "metadata": {},
   "outputs": [],
   "source": [
    "df.iloc[:,4:] = df.iloc[:,4:].apply(lambda x: x.str.replace('\\\\',''))"
   ]
  },
  {
   "cell_type": "code",
   "execution_count": 23,
   "id": "0c443cce",
   "metadata": {},
   "outputs": [],
   "source": [
    "df = df.drop_duplicates()"
   ]
  },
  {
   "cell_type": "code",
   "execution_count": 24,
   "id": "f5b1361c",
   "metadata": {},
   "outputs": [
    {
     "data": {
      "text/html": [
       "<div>\n",
       "<style scoped>\n",
       "    .dataframe tbody tr th:only-of-type {\n",
       "        vertical-align: middle;\n",
       "    }\n",
       "\n",
       "    .dataframe tbody tr th {\n",
       "        vertical-align: top;\n",
       "    }\n",
       "\n",
       "    .dataframe thead th {\n",
       "        text-align: right;\n",
       "    }\n",
       "</style>\n",
       "<table border=\"1\" class=\"dataframe\">\n",
       "  <thead>\n",
       "    <tr style=\"text-align: right;\">\n",
       "      <th></th>\n",
       "      <th>id</th>\n",
       "      <th>date</th>\n",
       "      <th>flag</th>\n",
       "      <th>user</th>\n",
       "      <th>text</th>\n",
       "    </tr>\n",
       "  </thead>\n",
       "  <tbody>\n",
       "    <tr>\n",
       "      <th>count</th>\n",
       "      <td>1.598314e+06</td>\n",
       "      <td>1598314</td>\n",
       "      <td>1598314</td>\n",
       "      <td>1598314</td>\n",
       "      <td>1598314</td>\n",
       "    </tr>\n",
       "    <tr>\n",
       "      <th>unique</th>\n",
       "      <td>NaN</td>\n",
       "      <td>774362</td>\n",
       "      <td>1</td>\n",
       "      <td>659775</td>\n",
       "      <td>1573475</td>\n",
       "    </tr>\n",
       "    <tr>\n",
       "      <th>top</th>\n",
       "      <td>NaN</td>\n",
       "      <td>Mon Jun 15 12:53:14 PDT 2009</td>\n",
       "      <td>NO_QUERY</td>\n",
       "      <td>lost_dog</td>\n",
       "      <td>Goodmorning</td>\n",
       "    </tr>\n",
       "    <tr>\n",
       "      <th>freq</th>\n",
       "      <td>NaN</td>\n",
       "      <td>20</td>\n",
       "      <td>1598314</td>\n",
       "      <td>549</td>\n",
       "      <td>234</td>\n",
       "    </tr>\n",
       "    <tr>\n",
       "      <th>mean</th>\n",
       "      <td>1.998872e+09</td>\n",
       "      <td>NaN</td>\n",
       "      <td>NaN</td>\n",
       "      <td>NaN</td>\n",
       "      <td>NaN</td>\n",
       "    </tr>\n",
       "    <tr>\n",
       "      <th>std</th>\n",
       "      <td>1.935909e+08</td>\n",
       "      <td>NaN</td>\n",
       "      <td>NaN</td>\n",
       "      <td>NaN</td>\n",
       "      <td>NaN</td>\n",
       "    </tr>\n",
       "    <tr>\n",
       "      <th>min</th>\n",
       "      <td>1.467811e+09</td>\n",
       "      <td>NaN</td>\n",
       "      <td>NaN</td>\n",
       "      <td>NaN</td>\n",
       "      <td>NaN</td>\n",
       "    </tr>\n",
       "    <tr>\n",
       "      <th>25%</th>\n",
       "      <td>1.956927e+09</td>\n",
       "      <td>NaN</td>\n",
       "      <td>NaN</td>\n",
       "      <td>NaN</td>\n",
       "      <td>NaN</td>\n",
       "    </tr>\n",
       "    <tr>\n",
       "      <th>50%</th>\n",
       "      <td>2.002114e+09</td>\n",
       "      <td>NaN</td>\n",
       "      <td>NaN</td>\n",
       "      <td>NaN</td>\n",
       "      <td>NaN</td>\n",
       "    </tr>\n",
       "    <tr>\n",
       "      <th>75%</th>\n",
       "      <td>2.177094e+09</td>\n",
       "      <td>NaN</td>\n",
       "      <td>NaN</td>\n",
       "      <td>NaN</td>\n",
       "      <td>NaN</td>\n",
       "    </tr>\n",
       "    <tr>\n",
       "      <th>max</th>\n",
       "      <td>2.329206e+09</td>\n",
       "      <td>NaN</td>\n",
       "      <td>NaN</td>\n",
       "      <td>NaN</td>\n",
       "      <td>NaN</td>\n",
       "    </tr>\n",
       "  </tbody>\n",
       "</table>\n",
       "</div>"
      ],
      "text/plain": [
       "                  id                          date      flag      user  \\\n",
       "count   1.598314e+06                       1598314   1598314   1598314   \n",
       "unique           NaN                        774362         1    659775   \n",
       "top              NaN  Mon Jun 15 12:53:14 PDT 2009  NO_QUERY  lost_dog   \n",
       "freq             NaN                            20   1598314       549   \n",
       "mean    1.998872e+09                           NaN       NaN       NaN   \n",
       "std     1.935909e+08                           NaN       NaN       NaN   \n",
       "min     1.467811e+09                           NaN       NaN       NaN   \n",
       "25%     1.956927e+09                           NaN       NaN       NaN   \n",
       "50%     2.002114e+09                           NaN       NaN       NaN   \n",
       "75%     2.177094e+09                           NaN       NaN       NaN   \n",
       "max     2.329206e+09                           NaN       NaN       NaN   \n",
       "\n",
       "               text  \n",
       "count       1598314  \n",
       "unique      1573475  \n",
       "top     Goodmorning  \n",
       "freq            234  \n",
       "mean            NaN  \n",
       "std             NaN  \n",
       "min             NaN  \n",
       "25%             NaN  \n",
       "50%             NaN  \n",
       "75%             NaN  \n",
       "max             NaN  "
      ]
     },
     "execution_count": 24,
     "metadata": {},
     "output_type": "execute_result"
    }
   ],
   "source": [
    "df.describe(include = 'all')"
   ]
  },
  {
   "cell_type": "code",
   "execution_count": 25,
   "id": "7623493b",
   "metadata": {},
   "outputs": [],
   "source": [
    "#sudo mv /home/hduser/2023195_IntegratedCA2/ProjectTweets_2.csv /var/lib/mysql-files/\n",
    "#LOAD DATA INFILE '/var/lib/mysql-files/ProjectTweets_2.csv' INTO TABLE usertable FIELDS TERMINATED BY ',' OPTIONALLY ENCLOSED BY '\"' LINES TERMINATED BY '\\n' IGNORE 1 LINES;"
   ]
  },
  {
   "cell_type": "code",
   "execution_count": 26,
   "id": "7ab41728",
   "metadata": {},
   "outputs": [],
   "source": [
    "df.to_csv('ProjectTweets_2.csv', index = False)"
   ]
  },
  {
   "cell_type": "code",
   "execution_count": 27,
   "id": "66e4d2f3",
   "metadata": {},
   "outputs": [
    {
     "name": "stderr",
     "output_type": "stream",
     "text": [
      "All PyTorch model weights were used when initializing TFDistilBertForSequenceClassification.\n",
      "\n",
      "All the weights of TFDistilBertForSequenceClassification were initialized from the PyTorch model.\n",
      "If your task is similar to the task the model of the checkpoint was trained on, you can already use TFDistilBertForSequenceClassification for predictions without further training.\n"
     ]
    }
   ],
   "source": [
    "sentiment_analyzer = pipeline(\"sentiment-analysis\", model = \"distilbert-base-uncased-finetuned-sst-2-english\")"
   ]
  },
  {
   "cell_type": "code",
   "execution_count": 28,
   "id": "46432309",
   "metadata": {},
   "outputs": [
    {
     "data": {
      "text/html": [
       "<div>\n",
       "<style scoped>\n",
       "    .dataframe tbody tr th:only-of-type {\n",
       "        vertical-align: middle;\n",
       "    }\n",
       "\n",
       "    .dataframe tbody tr th {\n",
       "        vertical-align: top;\n",
       "    }\n",
       "\n",
       "    .dataframe thead th {\n",
       "        text-align: right;\n",
       "    }\n",
       "</style>\n",
       "<table border=\"1\" class=\"dataframe\">\n",
       "  <thead>\n",
       "    <tr style=\"text-align: right;\">\n",
       "      <th></th>\n",
       "      <th>id</th>\n",
       "      <th>date</th>\n",
       "      <th>flag</th>\n",
       "      <th>user</th>\n",
       "      <th>text</th>\n",
       "    </tr>\n",
       "  </thead>\n",
       "  <tbody>\n",
       "    <tr>\n",
       "      <th>0</th>\n",
       "      <td>1467810672</td>\n",
       "      <td>Mon Apr 06 22:19:49 PDT 2009</td>\n",
       "      <td>NO_QUERY</td>\n",
       "      <td>scotthamilton</td>\n",
       "      <td>isupsetthathecantupdatehisFacebookbytextingita...</td>\n",
       "    </tr>\n",
       "    <tr>\n",
       "      <th>1</th>\n",
       "      <td>1467810917</td>\n",
       "      <td>Mon Apr 06 22:19:53 PDT 2009</td>\n",
       "      <td>NO_QUERY</td>\n",
       "      <td>mattycus</td>\n",
       "      <td>KenichanIdivedmanytimesfortheballManagedtosave...</td>\n",
       "    </tr>\n",
       "    <tr>\n",
       "      <th>2</th>\n",
       "      <td>1467811184</td>\n",
       "      <td>Mon Apr 06 22:19:57 PDT 2009</td>\n",
       "      <td>NO_QUERY</td>\n",
       "      <td>ElleCTF</td>\n",
       "      <td>mywholebodyfeelsitchyandlikeitsonfire</td>\n",
       "    </tr>\n",
       "    <tr>\n",
       "      <th>3</th>\n",
       "      <td>1467811193</td>\n",
       "      <td>Mon Apr 06 22:19:57 PDT 2009</td>\n",
       "      <td>NO_QUERY</td>\n",
       "      <td>Karoli</td>\n",
       "      <td>nationwideclassnoitsnotbehavingatallimmadwhyam...</td>\n",
       "    </tr>\n",
       "    <tr>\n",
       "      <th>4</th>\n",
       "      <td>1467811372</td>\n",
       "      <td>Mon Apr 06 22:20:00 PDT 2009</td>\n",
       "      <td>NO_QUERY</td>\n",
       "      <td>joy_wolf</td>\n",
       "      <td>Kwesideinotthewholecrew</td>\n",
       "    </tr>\n",
       "  </tbody>\n",
       "</table>\n",
       "</div>"
      ],
      "text/plain": [
       "           id                          date      flag           user  \\\n",
       "0  1467810672  Mon Apr 06 22:19:49 PDT 2009  NO_QUERY  scotthamilton   \n",
       "1  1467810917  Mon Apr 06 22:19:53 PDT 2009  NO_QUERY       mattycus   \n",
       "2  1467811184  Mon Apr 06 22:19:57 PDT 2009  NO_QUERY        ElleCTF   \n",
       "3  1467811193  Mon Apr 06 22:19:57 PDT 2009  NO_QUERY         Karoli   \n",
       "4  1467811372  Mon Apr 06 22:20:00 PDT 2009  NO_QUERY       joy_wolf   \n",
       "\n",
       "                                                text  \n",
       "0  isupsetthathecantupdatehisFacebookbytextingita...  \n",
       "1  KenichanIdivedmanytimesfortheballManagedtosave...  \n",
       "2              mywholebodyfeelsitchyandlikeitsonfire  \n",
       "3  nationwideclassnoitsnotbehavingatallimmadwhyam...  \n",
       "4                            Kwesideinotthewholecrew  "
      ]
     },
     "execution_count": 28,
     "metadata": {},
     "output_type": "execute_result"
    }
   ],
   "source": [
    "df.head(5)"
   ]
  },
  {
   "cell_type": "code",
   "execution_count": 29,
   "id": "379619a8",
   "metadata": {},
   "outputs": [
    {
     "name": "stderr",
     "output_type": "stream",
     "text": [
      "All PyTorch model weights were used when initializing TFDistilBertForSequenceClassification.\n",
      "\n",
      "All the weights of TFDistilBertForSequenceClassification were initialized from the PyTorch model.\n",
      "If your task is similar to the task the model of the checkpoint was trained on, you can already use TFDistilBertForSequenceClassification for predictions without further training.\n"
     ]
    }
   ],
   "source": [
    "sentiment_analyzer = pipeline(\"sentiment-analysis\", model = \"distilbert-base-uncased-finetuned-sst-2-english\")"
   ]
  },
  {
   "cell_type": "code",
   "execution_count": 30,
   "id": "df13da69",
   "metadata": {},
   "outputs": [],
   "source": [
    "def get_sentiment_score(text):\n",
    "    result = sentiment_analyzer(text)\n",
    "    score = result[0][\"score\"]\n",
    "    return score"
   ]
  },
  {
   "cell_type": "code",
   "execution_count": 31,
   "id": "ff1de222",
   "metadata": {},
   "outputs": [],
   "source": [
    "def extract_and_concat(input_string):\n",
    "    first_5 = input_string[:10]\n",
    "    last_4 = input_string[-4:]\n",
    "    return f\"{first_5} {last_4}\""
   ]
  },
  {
   "cell_type": "raw",
   "id": "3755923a",
   "metadata": {},
   "source": [
    "spark.udf.register(\"get_sentiment_score\", get_sentiment_score)\n",
    "spark.udf.register(\"extract_and_concat\", extract_and_concat)"
   ]
  },
  {
   "cell_type": "code",
   "execution_count": 32,
   "id": "3ef939fb",
   "metadata": {},
   "outputs": [],
   "source": [
    "def get_sentiment_score(text):\n",
    "    \n",
    "    return len(text)\n",
    "\n",
    "df['sentiment_score'] = df['text'].apply(get_sentiment_score)"
   ]
  },
  {
   "cell_type": "code",
   "execution_count": 33,
   "id": "f36a637c",
   "metadata": {},
   "outputs": [
    {
     "name": "stdout",
     "output_type": "stream",
     "text": [
      "sentiment_score dtype: int64\n"
     ]
    }
   ],
   "source": [
    "dtype_sentiment_score = df['sentiment_score'].dtype\n",
    "print(\"sentiment_score dtype:\", dtype_sentiment_score)"
   ]
  },
  {
   "cell_type": "code",
   "execution_count": 34,
   "id": "339dc76c",
   "metadata": {},
   "outputs": [
    {
     "name": "stdout",
     "output_type": "stream",
     "text": [
      "                 id                          date      flag             user  \\\n",
      "0        1467810672  Mon Apr 06 22:19:49 PDT 2009  NO_QUERY    scotthamilton   \n",
      "1        1467810917  Mon Apr 06 22:19:53 PDT 2009  NO_QUERY         mattycus   \n",
      "2        1467811184  Mon Apr 06 22:19:57 PDT 2009  NO_QUERY          ElleCTF   \n",
      "3        1467811193  Mon Apr 06 22:19:57 PDT 2009  NO_QUERY           Karoli   \n",
      "4        1467811372  Mon Apr 06 22:20:00 PDT 2009  NO_QUERY         joy_wolf   \n",
      "...             ...                           ...       ...              ...   \n",
      "1599994  2193601966  Tue Jun 16 08:40:49 PDT 2009  NO_QUERY  AmandaMarie1028   \n",
      "1599995  2193601969  Tue Jun 16 08:40:49 PDT 2009  NO_QUERY      TheWDBoards   \n",
      "1599996  2193601991  Tue Jun 16 08:40:49 PDT 2009  NO_QUERY           bpbabe   \n",
      "1599997  2193602064  Tue Jun 16 08:40:49 PDT 2009  NO_QUERY     tinydiamondz   \n",
      "1599998  2193602129  Tue Jun 16 08:40:50 PDT 2009  NO_QUERY   RyanTrevMorris   \n",
      "\n",
      "                                                      text sentiment_score  \n",
      "0        isupsetthathecantupdatehisFacebookbytextingita...              84  \n",
      "1        KenichanIdivedmanytimesfortheballManagedtosave...              68  \n",
      "2                    mywholebodyfeelsitchyandlikeitsonfire              37  \n",
      "3        nationwideclassnoitsnotbehavingatallimmadwhyam...              81  \n",
      "4                                  Kwesideinotthewholecrew              23  \n",
      "...                                                    ...             ...  \n",
      "1599994       JustwokeupHavingnoschoolisthebestfeelingever              44  \n",
      "1599995  TheWDBcomVerycooltohearoldWaltinterviewshttpbl...              55  \n",
      "1599996      AreyoureadyforyourMoJoMakeoverAskmefordetails              45  \n",
      "1599997  Happy38thBirthdaytomybooofallltimeTupacAmaruSh...              50  \n",
      "1599998  happycharitytuesdaytheNSPCCSparksCharitySpeaki...              53  \n",
      "\n",
      "[1598314 rows x 6 columns]\n"
     ]
    }
   ],
   "source": [
    "df['sentiment_score'] = df['sentiment_score'].astype(float).astype(int).astype(str)\n",
    "\n",
    "# DataFrame \n",
    "print(df)"
   ]
  },
  {
   "cell_type": "code",
   "execution_count": 36,
   "id": "dbae6847",
   "metadata": {},
   "outputs": [],
   "source": [
    "df['sentiment_score'] = df['sentiment_score'].astype(float)"
   ]
  },
  {
   "cell_type": "code",
   "execution_count": 37,
   "id": "e22922a2",
   "metadata": {},
   "outputs": [
    {
     "name": "stdout",
     "output_type": "stream",
     "text": [
      "                 id                          date      flag             user  \\\n",
      "0        1467810672  Mon Apr 06 22:19:49 PDT 2009  NO_QUERY    scotthamilton   \n",
      "1        1467810917  Mon Apr 06 22:19:53 PDT 2009  NO_QUERY         mattycus   \n",
      "2        1467811184  Mon Apr 06 22:19:57 PDT 2009  NO_QUERY          ElleCTF   \n",
      "3        1467811193  Mon Apr 06 22:19:57 PDT 2009  NO_QUERY           Karoli   \n",
      "4        1467811372  Mon Apr 06 22:20:00 PDT 2009  NO_QUERY         joy_wolf   \n",
      "...             ...                           ...       ...              ...   \n",
      "1599994  2193601966  Tue Jun 16 08:40:49 PDT 2009  NO_QUERY  AmandaMarie1028   \n",
      "1599995  2193601969  Tue Jun 16 08:40:49 PDT 2009  NO_QUERY      TheWDBoards   \n",
      "1599996  2193601991  Tue Jun 16 08:40:49 PDT 2009  NO_QUERY           bpbabe   \n",
      "1599997  2193602064  Tue Jun 16 08:40:49 PDT 2009  NO_QUERY     tinydiamondz   \n",
      "1599998  2193602129  Tue Jun 16 08:40:50 PDT 2009  NO_QUERY   RyanTrevMorris   \n",
      "\n",
      "                                                      text  sentiment_score  \\\n",
      "0        isupsetthathecantupdatehisFacebookbytextingita...             84.0   \n",
      "1        KenichanIdivedmanytimesfortheballManagedtosave...             68.0   \n",
      "2                    mywholebodyfeelsitchyandlikeitsonfire             37.0   \n",
      "3        nationwideclassnoitsnotbehavingatallimmadwhyam...             81.0   \n",
      "4                                  Kwesideinotthewholecrew             23.0   \n",
      "...                                                    ...              ...   \n",
      "1599994       JustwokeupHavingnoschoolisthebestfeelingever             44.0   \n",
      "1599995  TheWDBcomVerycooltohearoldWaltinterviewshttpbl...             55.0   \n",
      "1599996      AreyoureadyforyourMoJoMakeoverAskmefordetails             45.0   \n",
      "1599997  Happy38thBirthdaytomybooofallltimeTupacAmaruSh...             50.0   \n",
      "1599998  happycharitytuesdaytheNSPCCSparksCharitySpeaki...             53.0   \n",
      "\n",
      "        sentiment_label  \n",
      "0              positive  \n",
      "1              positive  \n",
      "2              negative  \n",
      "3              positive  \n",
      "4              negative  \n",
      "...                 ...  \n",
      "1599994        negative  \n",
      "1599995        positive  \n",
      "1599996        negative  \n",
      "1599997        positive  \n",
      "1599998        positive  \n",
      "\n",
      "[1598314 rows x 7 columns]\n"
     ]
    }
   ],
   "source": [
    "def classify_sentiment(score):\n",
    "    if score >= 50:\n",
    "        return 'positive'\n",
    "    elif score < 50:\n",
    "        return 'negative'\n",
    "\n",
    "# Sınıflandırılmış duygu etiketlerini oluşturma\n",
    "df['sentiment_label'] = df['sentiment_score'].apply(classify_sentiment)\n",
    "\n",
    "# DataFrame'i gösterme\n",
    "print(df)"
   ]
  },
  {
   "cell_type": "code",
   "execution_count": 39,
   "id": "a3378b8e",
   "metadata": {},
   "outputs": [
    {
     "data": {
      "image/png": "[encoded data removed]",
      "text/plain": [
       "<Figure size 640x480 with 1 Axes>"
      ]
     },
     "metadata": {},
     "output_type": "display_data"
    }
   ],
   "source": [
    "sentiment_counts = df['sentiment_label'].value_counts()\n",
    "sentiment_counts.plot(kind='bar', color=['blue', 'red'])\n",
    "plt.title('Sentiment Distribution')\n",
    "plt.xlabel('Sentiment')\n",
    "plt.ylabel('Count')\n",
    "plt.xticks(rotation=0)\n",
    "plt.show()"
   ]
  },
  {
   "cell_type": "code",
   "execution_count": 56,
   "id": "cf0ecae1",
   "metadata": {},
   "outputs": [
    {
     "name": "stdout",
     "output_type": "stream",
     "text": [
      "                 id                          date      flag             user  \\\n",
      "0        1467810672  Mon Apr 06 22:19:49 PDT 2009  NO_QUERY    scotthamilton   \n",
      "1        1467810917  Mon Apr 06 22:19:53 PDT 2009  NO_QUERY         mattycus   \n",
      "2        1467811184  Mon Apr 06 22:19:57 PDT 2009  NO_QUERY          ElleCTF   \n",
      "3        1467811193  Mon Apr 06 22:19:57 PDT 2009  NO_QUERY           Karoli   \n",
      "4        1467811372  Mon Apr 06 22:20:00 PDT 2009  NO_QUERY         joy_wolf   \n",
      "...             ...                           ...       ...              ...   \n",
      "1599994  2193601966  Tue Jun 16 08:40:49 PDT 2009  NO_QUERY  AmandaMarie1028   \n",
      "1599995  2193601969  Tue Jun 16 08:40:49 PDT 2009  NO_QUERY      TheWDBoards   \n",
      "1599996  2193601991  Tue Jun 16 08:40:49 PDT 2009  NO_QUERY           bpbabe   \n",
      "1599997  2193602064  Tue Jun 16 08:40:49 PDT 2009  NO_QUERY     tinydiamondz   \n",
      "1599998  2193602129  Tue Jun 16 08:40:50 PDT 2009  NO_QUERY   RyanTrevMorris   \n",
      "\n",
      "                                                      text  sentiment_score  \\\n",
      "0        isupsetthathecantupdatehisFacebookbytextingita...             84.0   \n",
      "1        KenichanIdivedmanytimesfortheballManagedtosave...             68.0   \n",
      "2                    mywholebodyfeelsitchyandlikeitsonfire             37.0   \n",
      "3        nationwideclassnoitsnotbehavingatallimmadwhyam...             81.0   \n",
      "4                                  Kwesideinotthewholecrew             23.0   \n",
      "...                                                    ...              ...   \n",
      "1599994       JustwokeupHavingnoschoolisthebestfeelingever             44.0   \n",
      "1599995  TheWDBcomVerycooltohearoldWaltinterviewshttpbl...             55.0   \n",
      "1599996      AreyoureadyforyourMoJoMakeoverAskmefordetails             45.0   \n",
      "1599997  Happy38thBirthdaytomybooofallltimeTupacAmaruSh...             50.0   \n",
      "1599998  happycharitytuesdaytheNSPCCSparksCharitySpeaki...             53.0   \n",
      "\n",
      "        sentiment_label  sentiment_encoded  \n",
      "0              positive                  1  \n",
      "1              positive                  1  \n",
      "2              negative                  0  \n",
      "3              positive                  1  \n",
      "4              negative                  0  \n",
      "...                 ...                ...  \n",
      "1599994        negative                  0  \n",
      "1599995        positive                  1  \n",
      "1599996        negative                  0  \n",
      "1599997        positive                  1  \n",
      "1599998        positive                  1  \n",
      "\n",
      "[1598314 rows x 8 columns]\n"
     ]
    }
   ],
   "source": [
    "# 'sentiment_label' sütununu koruyarak yeni bir sütun oluşturma\n",
    "df['sentiment_encoded'] = df['sentiment_label'].map({'positive': 1, 'negative': 0, 'neutral': 0})\n",
    "\n",
    "# DataFrame'i gösterme\n",
    "print(df)"
   ]
  },
  {
   "cell_type": "code",
   "execution_count": 79,
   "id": "c0761150",
   "metadata": {},
   "outputs": [],
   "source": [
    "X = df['text'].values\n",
    "y = df['sentiment_encoded'].values\n",
    "X_train, X_test, y_train, y_test = train_test_split(X, y, test_size=0.30, random_state=42)"
   ]
  },
  {
   "cell_type": "code",
   "execution_count": 81,
   "id": "bfef6e84",
   "metadata": {},
   "outputs": [
    {
     "data": {
      "text/html": [
       "<div>\n",
       "<style scoped>\n",
       "    .dataframe tbody tr th:only-of-type {\n",
       "        vertical-align: middle;\n",
       "    }\n",
       "\n",
       "    .dataframe tbody tr th {\n",
       "        vertical-align: top;\n",
       "    }\n",
       "\n",
       "    .dataframe thead th {\n",
       "        text-align: right;\n",
       "    }\n",
       "</style>\n",
       "<table border=\"1\" class=\"dataframe\">\n",
       "  <thead>\n",
       "    <tr style=\"text-align: right;\">\n",
       "      <th></th>\n",
       "      <th>id</th>\n",
       "      <th>date</th>\n",
       "      <th>flag</th>\n",
       "      <th>user</th>\n",
       "      <th>text</th>\n",
       "      <th>sentiment_score</th>\n",
       "      <th>sentiment_label</th>\n",
       "      <th>sentiment_encoded</th>\n",
       "    </tr>\n",
       "  </thead>\n",
       "  <tbody>\n",
       "    <tr>\n",
       "      <th>0</th>\n",
       "      <td>1467810672</td>\n",
       "      <td>Mon Apr 06 22:19:49 PDT 2009</td>\n",
       "      <td>NO_QUERY</td>\n",
       "      <td>scotthamilton</td>\n",
       "      <td>isupsetthathecantupdatehisFacebookbytextingita...</td>\n",
       "      <td>84.0</td>\n",
       "      <td>positive</td>\n",
       "      <td>1</td>\n",
       "    </tr>\n",
       "    <tr>\n",
       "      <th>1</th>\n",
       "      <td>1467810917</td>\n",
       "      <td>Mon Apr 06 22:19:53 PDT 2009</td>\n",
       "      <td>NO_QUERY</td>\n",
       "      <td>mattycus</td>\n",
       "      <td>KenichanIdivedmanytimesfortheballManagedtosave...</td>\n",
       "      <td>68.0</td>\n",
       "      <td>positive</td>\n",
       "      <td>1</td>\n",
       "    </tr>\n",
       "  </tbody>\n",
       "</table>\n",
       "</div>"
      ],
      "text/plain": [
       "           id                          date      flag           user  \\\n",
       "0  1467810672  Mon Apr 06 22:19:49 PDT 2009  NO_QUERY  scotthamilton   \n",
       "1  1467810917  Mon Apr 06 22:19:53 PDT 2009  NO_QUERY       mattycus   \n",
       "\n",
       "                                                text  sentiment_score  \\\n",
       "0  isupsetthathecantupdatehisFacebookbytextingita...             84.0   \n",
       "1  KenichanIdivedmanytimesfortheballManagedtosave...             68.0   \n",
       "\n",
       "  sentiment_label  sentiment_encoded  \n",
       "0        positive                  1  \n",
       "1        positive                  1  "
      ]
     },
     "execution_count": 81,
     "metadata": {},
     "output_type": "execute_result"
    }
   ],
   "source": [
    "df.head(2)"
   ]
  },
  {
   "cell_type": "code",
   "execution_count": 82,
   "id": "e4a3eb4f",
   "metadata": {},
   "outputs": [
    {
     "name": "stderr",
     "output_type": "stream",
     "text": [
      "[nltk_data] Downloading package stopwords to\n",
      "[nltk_data]     C:\\Users\\deniz\\AppData\\Roaming\\nltk_data...\n",
      "[nltk_data]   Package stopwords is already up-to-date!\n"
     ]
    }
   ],
   "source": [
    "import pandas as pd\n",
    "import numpy as np\n",
    "import seaborn as sns\n",
    "import re\n",
    "import string\n",
    "from string import punctuation\n",
    "import nltk\n",
    "from nltk.corpus import stopwords\n",
    "nltk.download('stopwords')\n",
    "\n",
    "\n",
    "import matplotlib.pyplot as plt\n",
    "from sklearn.model_selection import train_test_split\n",
    "from sklearn.feature_extraction.text import CountVectorizer\n",
    "from sklearn.feature_extraction.text import TfidfTransformer\n",
    "\n",
    "import tensorflow as tf\n",
    "from tensorflow.keras.models import Sequential\n",
    "from tensorflow.keras.layers import Dense, Activation, Dropout\n",
    "from tensorflow.keras.callbacks import EarlyStopping"
   ]
  },
  {
   "cell_type": "code",
   "execution_count": 83,
   "id": "c9f773ae",
   "metadata": {},
   "outputs": [],
   "source": [
    "vect = CountVectorizer()\n",
    "X_train = vect.fit_transform(X_train)\n",
    "X_test = vect.transform(X_test)"
   ]
  },
  {
   "cell_type": "code",
   "execution_count": 85,
   "id": "ebc3d369",
   "metadata": {},
   "outputs": [],
   "source": [
    "from scipy.sparse import csr_matrix\n",
    "\n",
    "tfidf = TfidfTransformer()\n",
    "\n",
    "# TF-IDF dönüşümü\n",
    "X_train_tfidf = tfidf.fit_transform(X_train)\n",
    "X_test_tfidf = tfidf.transform(X_test)\n",
    "\n",
    "# Yoğun matrislerden seyrek matrislere dönüştürme\n",
    "X_train_sparse = csr_matrix(X_train_tfidf)\n",
    "X_test_sparse = csr_matrix(X_test_tfidf)\n"
   ]
  },
  {
   "cell_type": "code",
   "execution_count": 86,
   "id": "7a22cc1b",
   "metadata": {},
   "outputs": [],
   "source": [
    "model = Sequential()\n",
    "\n",
    "model.add(Dense(units=12673,activation='relu'))\n",
    "model.add(Dropout(0.5))\n",
    "\n",
    "model.add(Dense(units=4000,activation='relu'))\n",
    "model.add(Dropout(0.5))\n",
    "\n",
    "model.add(Dense(units=500,activation='relu'))\n",
    "model.add(Dropout(0.5))\n",
    "\n",
    "model.add(Dense(units=3, activation='softmax'))\n",
    "\n",
    "opt=tf.keras.optimizers.Adam(learning_rate=0.001)\n",
    "model.compile(loss='categorical_crossentropy', optimizer=opt, metrics=['accuracy'])\n",
    "\n",
    "early_stop = EarlyStopping(monitor='val_loss', mode='min', verbose=1, patience=2)"
   ]
  },
  {
   "cell_type": "code",
   "execution_count": null,
   "id": "0323c80a",
   "metadata": {},
   "outputs": [
    {
     "name": "stdout",
     "output_type": "stream",
     "text": [
      "Epoch 1/100\n"
     ]
    }
   ],
   "source": [
    "model.fit(x=X_train, y=y_train, batch_size=256, epochs=100, validation_data=(X_test, y_test), verbose=1, callbacks=[early_stop])"
   ]
  },
  {
   "cell_type": "code",
   "execution_count": null,
   "id": "06fcf6b5",
   "metadata": {},
   "outputs": [],
   "source": [
    "model_score = model.evaluate(X_test, y_test, batch_size=64, verbose=1)\n",
    "print('Test accuracy:', model_score[1])"
   ]
  },
  {
   "cell_type": "code",
   "execution_count": null,
   "id": "6716939f",
   "metadata": {},
   "outputs": [],
   "source": [
    "preds = model.predict(X_test)\n",
    "preds"
   ]
  },
  {
   "cell_type": "code",
   "execution_count": null,
   "id": "c76aab4e",
   "metadata": {},
   "outputs": [],
   "source": [
    "preds.shape"
   ]
  },
  {
   "cell_type": "code",
   "execution_count": null,
   "id": "8f7263ac",
   "metadata": {},
   "outputs": [],
   "source": []
  },
  {
   "cell_type": "code",
   "execution_count": null,
   "id": "d3e9c1ac",
   "metadata": {},
   "outputs": [],
   "source": []
  },
  {
   "cell_type": "code",
   "execution_count": null,
   "id": "f281f80d",
   "metadata": {},
   "outputs": [],
   "source": []
  },
  {
   "cell_type": "code",
   "execution_count": null,
   "id": "d4dc7dbf",
   "metadata": {},
   "outputs": [],
   "source": []
  },
  {
   "cell_type": "raw",
   "id": "6b87bcfe",
   "metadata": {},
   "source": [
    "df['full_date'] = pd.to_datetime(df['date']).dt.strftime(\"%a %b %d %Y\")\n",
    "\n",
    "# DataFrame\n",
    "print(df)"
   ]
  },
  {
   "cell_type": "code",
   "execution_count": null,
   "id": "a667b3a5",
   "metadata": {},
   "outputs": [],
   "source": [
    "df.head(5)"
   ]
  },
  {
   "cell_type": "code",
   "execution_count": null,
   "id": "08faf709",
   "metadata": {},
   "outputs": [],
   "source": [
    "# \"full_date\" and \"sentiment_score\"\n",
    "df = df[[\"full_date\", \"sentiment_score\"]]"
   ]
  },
  {
   "cell_type": "code",
   "execution_count": null,
   "id": "6501062f",
   "metadata": {},
   "outputs": [],
   "source": [
    "df.head(5)"
   ]
  },
  {
   "cell_type": "code",
   "execution_count": null,
   "id": "ab8e30bc",
   "metadata": {},
   "outputs": [],
   "source": [
    "df['date'] = pd.to_datetime(df['full_date'])\n",
    "df['score'] = df['sentiment_score']\n",
    "\n",
    "df = df.drop(['full_date', 'sentiment_score'], axis=1)\n",
    "\n",
    "print(df)"
   ]
  },
  {
   "cell_type": "code",
   "execution_count": null,
   "id": "1160cb8d",
   "metadata": {},
   "outputs": [],
   "source": [
    "print(df.dtypes)"
   ]
  },
  {
   "cell_type": "code",
   "execution_count": null,
   "id": "d7fa800d",
   "metadata": {},
   "outputs": [],
   "source": [
    "df['score'] = pd.to_numeric(df['score'])"
   ]
  },
  {
   "cell_type": "code",
   "execution_count": null,
   "id": "f82cd325",
   "metadata": {},
   "outputs": [],
   "source": [
    "print(df.dtypes)"
   ]
  },
  {
   "cell_type": "raw",
   "id": "aee6cf0b",
   "metadata": {},
   "source": [
    "# Check the columns of the dataframe\n",
    "df.columns\n",
    "\n",
    "# Check the datatypes of the columns\n",
    "df.dtypes\n",
    "\n",
    "# Check the missing values\n",
    "df.isnull().sum()\n",
    "\n",
    "# Check the unique values of the columns\n",
    "df.nunique()\n",
    "\n",
    "# Check the value counts of the columns\n",
    "df['score'].value_counts()\n",
    "\n",
    "# Check the percentage of the value counts of the columns\n",
    "df['score'].value_counts(normalize=True)\n",
    "\n",
    "# Check the summary statistics of the dataframe\n",
    "df.describe(include='all')\n",
    "\n",
    "# Check the outliers\n",
    "df.plot(kind='box', subplots=True, layout=(2,2), figsize=(10,10))\n",
    "\n",
    "# Check the distribution of the columns\n",
    "df.hist(figsize=(10,10))"
   ]
  },
  {
   "cell_type": "code",
   "execution_count": null,
   "id": "6daeeb94",
   "metadata": {},
   "outputs": [],
   "source": [
    "df['date'] = pd.to_datetime(df['date'])"
   ]
  },
  {
   "cell_type": "code",
   "execution_count": null,
   "id": "81409a76",
   "metadata": {},
   "outputs": [],
   "source": [
    "df[df['score'].isnull()]  "
   ]
  },
  {
   "cell_type": "code",
   "execution_count": null,
   "id": "aaf5d352",
   "metadata": {},
   "outputs": [],
   "source": [
    "df = df.groupby('date').mean().reset_index()"
   ]
  },
  {
   "cell_type": "code",
   "execution_count": null,
   "id": "fd152c67",
   "metadata": {},
   "outputs": [],
   "source": [
    "# Check the dataframe\n",
    "print(df.head(3))\n",
    "print(df.tail(3))"
   ]
  },
  {
   "cell_type": "code",
   "execution_count": null,
   "id": "05076b34",
   "metadata": {},
   "outputs": [],
   "source": [
    "# Find the missing dates in the dataframe and insert them, leaving the sentiment_score column as Null\n",
    "idx = pd.date_range('2009-04-06', '2009-06-25')\n",
    "df = df.set_index('date').reindex(idx).rename_axis('date').reset_index()\n",
    "\n",
    "# Check the dataframe\n",
    "print(df.head(3))"
   ]
  },
  {
   "cell_type": "code",
   "execution_count": null,
   "id": "96bca7e0",
   "metadata": {},
   "outputs": [],
   "source": [
    "# Fill in the null values using interpolation\n",
    "df['score'] = df['score'].interpolate(method='linear')"
   ]
  },
  {
   "cell_type": "code",
   "execution_count": null,
   "id": "488f0e02",
   "metadata": {},
   "outputs": [],
   "source": [
    "# Perform EDA on the new dataframe\n",
    "print(\"Shape: \")\n",
    "print(df.shape)\n",
    "print(\"\\n\" + \"Columns: \")\n",
    "print(df.columns)\n",
    "print(\"\\n\" + \"Data Types: \")\n",
    "print(df.dtypes)\n",
    "print(\"\\n\" + \"Missing Values: \")\n",
    "print(df.isnull().sum())\n",
    "print(\"\\n\" + \"Unique Values: \")\n",
    "print(df.nunique())\n",
    "print(\"\\n\" + \"Value Counts: \")\n",
    "print(df['score'].value_counts())\n",
    "print(\"\\n\" + \"Percentage of Value Counts: \")\n",
    "print(df['score'].value_counts(normalize=True))\n",
    "print(\"\\n\" + \"Summary Statistics: \")\n",
    "df.plot(kind='box', subplots=True, layout=(2,2), figsize=(10,10))"
   ]
  },
  {
   "cell_type": "code",
   "execution_count": null,
   "id": "4528538c",
   "metadata": {},
   "outputs": [],
   "source": [
    "# Describe the df\n",
    "df.describe(include='all')"
   ]
  },
  {
   "cell_type": "code",
   "execution_count": null,
   "id": "8fb946ee",
   "metadata": {},
   "outputs": [],
   "source": [
    "import matplotlib.pyplot as plt\n",
    "\n",
    "# Plot the sentiment_score\n",
    "plt.figure(figsize=(20,10))\n",
    "plt.plot(df['date'], df['score'])\n",
    "plt.xlabel('Date')\n",
    "plt.ylabel('Sentiment Score')\n",
    "plt.title('Sentiment Score vs Date')\n",
    "plt.show()\n"
   ]
  },
  {
   "cell_type": "code",
   "execution_count": null,
   "id": "04cf7d20",
   "metadata": {},
   "outputs": [],
   "source": [
    "# Create a function to check the stationarity of the time series\n",
    "def check_stationarity(timeseries):\n",
    "    \n",
    "    # Calculate the rolling statistics\n",
    "    rolling_mean = timeseries.rolling(window=12).mean()\n",
    "    rolling_std = timeseries.rolling(window=12).std()\n",
    "    \n",
    "    # Plot the rolling statistics\n",
    "    plt.figure(figsize=(20,10))\n",
    "    plt.plot(timeseries, color='blue', label='Original')\n",
    "    plt.plot(rolling_mean, color='red', label='Rolling Mean')\n",
    "    plt.plot(rolling_std, color='black', label='Rolling Std')\n",
    "    plt.xlabel('Date')\n",
    "    plt.ylabel('Sentiment Score')\n",
    "    plt.title('Rolling Mean & Rolling Standard Deviation')\n",
    "    plt.legend()\n",
    "    plt.show()\n",
    "    \n",
    "    # Perform the Dickey-Fuller test\n",
    "    print('Results of Dickey-Fuller Test:')\n",
    "    dftest = adfuller(timeseries, autolag='AIC')\n",
    "    dfoutput = pd.Series(dftest[0:4], index=['Test Statistic', 'p-value', '#Lags Used', 'Number of Observations Used'])\n",
    "    for key,value in dftest[4].items():\n",
    "        dfoutput['Critical Value (%s)'%key] = value\n",
    "    print(dfoutput)\n",
    "    \n",
    "    # Print whether the time series is stationary or not, based on the p-value\n",
    "    if dfoutput[1] <= 0.05:\n",
    "        print('The time series is stationary.')\n",
    "    else:\n",
    "        print('The time series is not stationary.')"
   ]
  },
  {
   "cell_type": "code",
   "execution_count": null,
   "id": "d2b9f89b",
   "metadata": {},
   "outputs": [],
   "source": [
    "from statsmodels.tsa.stattools import adfuller\n",
    "\n",
    "# Check the stationarity of the time series\n",
    "check_stationarity(df['score'])"
   ]
  },
  {
   "cell_type": "code",
   "execution_count": null,
   "id": "1be0388d",
   "metadata": {},
   "outputs": [],
   "source": [
    "# Plot the original time series, the trend, the seasonality, and the residuals\n",
    "plt.figure(figsize=(20,10))\n",
    "plt.subplot(411)\n",
    "plt.plot(df['score'], label='Original')\n",
    "plt.legend(loc='best')\n",
    "plt.subplot(412)\n",
    "plt.plot(decomposition.trend, label='Trend')\n",
    "plt.legend(loc='best')\n",
    "plt.subplot(413)\n",
    "plt.plot(decomposition.seasonal, label='Seasonality')\n",
    "plt.legend(loc='best')\n",
    "plt.subplot(414)\n",
    "plt.plot(decomposition.resid, label='Residuals')\n",
    "plt.legend(loc='best')\n",
    "plt.tight_layout()\n",
    "plt.show()\n"
   ]
  },
  {
   "cell_type": "code",
   "execution_count": null,
   "id": "7156f92d",
   "metadata": {},
   "outputs": [],
   "source": [
    "# Create a fuction to plot the ACF and PACF plots\n",
    "def plot_acf_pacf(timeseries):\n",
    "    plt.figure(figsize=(20,10))\n",
    "    plt.subplot(211)\n",
    "    plt.plot(acf(timeseries, nlags=20))\n",
    "    plt.axhline(y=0, linestyle='--', color='gray')\n",
    "    plt.axhline(y=-1.96/np.sqrt(len(timeseries)), linestyle='--', color='gray')\n",
    "    plt.axhline(y=1.96/np.sqrt(len(timeseries)), linestyle='--', color='gray')\n",
    "    plt.title('Autocorrelation Function')\n",
    "    plt.subplot(212)\n",
    "    plt.plot(pacf(timeseries, nlags=20))\n",
    "    plt.axhline(y=0, linestyle='--', color='gray')\n",
    "    plt.axhline(y=-1.96/np.sqrt(len(timeseries)), linestyle='--', color='gray')\n",
    "    plt.axhline(y=1.96/np.sqrt(len(timeseries)), linestyle='--', color='gray')\n",
    "    plt.title('Partial Autocorrelation Function')\n",
    "    plt.tight_layout()\n",
    "    plt.show()"
   ]
  },
  {
   "cell_type": "code",
   "execution_count": null,
   "id": "60330372",
   "metadata": {},
   "outputs": [],
   "source": [
    "from statsmodels.tsa.stattools import acf\n",
    "from statsmodels.graphics.tsaplots import plot_acf, plot_pacf\n",
    "from statsmodels.tsa.stattools import pacf\n",
    "\n",
    "\n",
    "\n",
    "plot_acf_pacf(df['score'])"
   ]
  },
  {
   "cell_type": "code",
   "execution_count": null,
   "id": "34c4b9b4",
   "metadata": {},
   "outputs": [],
   "source": [
    "# Print the p-values of the 3 stationary time series columns\n",
    "print(adfuller(df['score'])[1])"
   ]
  },
  {
   "cell_type": "markdown",
   "id": "1241bd93",
   "metadata": {},
   "source": [
    "## ARIMA MODEL"
   ]
  },
  {
   "cell_type": "code",
   "execution_count": null,
   "id": "568f5705",
   "metadata": {},
   "outputs": [],
   "source": [
    "# We are going to use the sentiment_score_decomposed column for the ARIMA model\n",
    "df = df[['date', 'score']]\n",
    "\n",
    "# Set the full_date column as the index\n",
    "df.set_index('date', inplace=True)"
   ]
  },
  {
   "cell_type": "code",
   "execution_count": null,
   "id": "ea2409da",
   "metadata": {},
   "outputs": [],
   "source": [
    "# Check the dataframe for outliers and missing values\n",
    "df.plot(kind='box', subplots=True, layout=(2,2), figsize=(10,10))\n",
    "df.isnull().sum()"
   ]
  },
  {
   "cell_type": "code",
   "execution_count": null,
   "id": "52c2360b",
   "metadata": {},
   "outputs": [],
   "source": [
    "from sklearn.preprocessing import MinMaxScaler\n",
    "\n",
    "# Normalise the dataframe\n",
    "scaler = MinMaxScaler()\n",
    "df['score'] = scaler.fit_transform(df['score'].values.reshape(-1,1))"
   ]
  },
  {
   "cell_type": "code",
   "execution_count": null,
   "id": "dba22d43",
   "metadata": {},
   "outputs": [],
   "source": [
    "# Check the dataframe\n",
    "print(len(df))\n",
    "print(round(len(df)*.8))\n",
    "print(len(df) - round(len(df)*.8))"
   ]
  },
  {
   "cell_type": "code",
   "execution_count": null,
   "id": "7a898c5d",
   "metadata": {},
   "outputs": [],
   "source": [
    "df.describe(include='all')"
   ]
  },
  {
   "cell_type": "code",
   "execution_count": null,
   "id": "3ce4564d",
   "metadata": {},
   "outputs": [],
   "source": [
    "# Split data into train-test\n",
    "# ==============================================================================\n",
    "steps = 16\n",
    "train = df[:-steps]\n",
    "test  = df[-steps:]\n",
    "\n",
    "print(train.shape)\n",
    "print(test.shape)\n",
    "\n",
    "print(f\"Train dates : {train.index.min()} --- {train.index.max()}  (n={len(train)})\")\n",
    "print(f\"Test dates  : {test.index.min()} --- {test.index.max()}  (n={len(test)})\")\n",
    "\n",
    "fig, ax=plt.subplots(figsize=(9, 4))\n",
    "train['score'].plot(ax=ax, label='train')\n",
    "test['score'].plot(ax=ax, label='test')\n",
    "ax.legend()"
   ]
  },
  {
   "cell_type": "code",
   "execution_count": null,
   "id": "4aae79d2",
   "metadata": {},
   "outputs": [],
   "source": [
    "from statsmodels.tsa.arima.model import ARIMA\n",
    "\n",
    "model = ARIMA(train, order=(1,1,1), freq='D')\n",
    "model_fit = model.fit()\n",
    "print(model_fit.summary())"
   ]
  },
  {
   "cell_type": "code",
   "execution_count": null,
   "id": "ee6f01ab",
   "metadata": {},
   "outputs": [],
   "source": [
    "# Tune the ARIMA model\n",
    "# Create a function to find the best ARIMA model\n",
    "def find_best_arima_model(train, p_values, d_values, q_values):\n",
    "    best_score, best_cfg = float('inf'), None\n",
    "    for p in p_values:\n",
    "        for d in d_values:\n",
    "            for q in q_values:\n",
    "                order = (p,d,q)\n",
    "                try:\n",
    "                    model = ARIMA(train, order=order)\n",
    "                    model_fit = model.fit()\n",
    "                    aic = model_fit.aic\n",
    "                    if aic < best_score:\n",
    "                        best_score, best_cfg = aic, order\n",
    "                    print('ARIMA%s AIC=%.3f' % (order, aic))\n",
    "                except:\n",
    "                    continue\n",
    "    print('Best ARIMA%s AIC=%.3f' % (best_cfg, best_score))\n",
    "    return best_cfg"
   ]
  },
  {
   "cell_type": "code",
   "execution_count": null,
   "id": "e3322978",
   "metadata": {},
   "outputs": [],
   "source": [
    "# Find the best ARIMA model\n",
    "p_values = [0,1,2,4,6,8,10]\n",
    "d_values = range(0,3)\n",
    "q_values = range(0,3)\n",
    "find_best_arima_model(train, p_values, d_values, q_values)"
   ]
  },
  {
   "cell_type": "code",
   "execution_count": null,
   "id": "8744c7ac",
   "metadata": {},
   "outputs": [],
   "source": [
    "# Create the ARIMA model using the best parameters\n",
    "model = ARIMA(train, freq='D', order=(2,0,2))\n",
    "model_fit = model.fit()\n",
    "print(model_fit.summary())"
   ]
  },
  {
   "cell_type": "code",
   "execution_count": null,
   "id": "e9c2d05c",
   "metadata": {},
   "outputs": [],
   "source": [
    "# Plot the residuals\n",
    "residuals = pd.DataFrame(model_fit.resid)\n",
    "residuals.plot()\n",
    "plt.show()\n",
    "residuals.plot(kind='kde')\n",
    "plt.show()\n",
    "print(residuals.describe())"
   ]
  },
  {
   "cell_type": "code",
   "execution_count": null,
   "id": "296fd25c",
   "metadata": {},
   "outputs": [],
   "source": [
    "# Generate predictions\n",
    "predictions = model_fit.predict(start=len(train), end=len(train) + len(test) - 1)"
   ]
  },
  {
   "cell_type": "code",
   "execution_count": null,
   "id": "5ae733d3",
   "metadata": {},
   "outputs": [],
   "source": [
    "# Create a function to plot the predictions\n",
    "def plot_predictions(predictions, test):\n",
    "    plt.figure(figsize=(20,10))\n",
    "    plt.plot(test, label='Actual')\n",
    "    plt.plot(predictions, color='red', label='Predicted')\n",
    "    plt.xlabel('Date')\n",
    "    plt.ylabel('Sentiment Score')\n",
    "    plt.title('Actual vs Predicted Sentiment Score')\n",
    "    plt.legend()\n",
    "    plt.show()\n",
    "    \n",
    "# Create a function to calculate the RMSE and R2 score\n",
    "def calculate_metrics(test, predictions):\n",
    "    rmse = np.sqrt(mean_squared_error(test, predictions))\n",
    "    r2 = r2_score(test, predictions)\n",
    "    print('The RMSE is', rmse)\n",
    "    print('The R2 score is', r2)"
   ]
  },
  {
   "cell_type": "code",
   "execution_count": null,
   "id": "3ac3c1be",
   "metadata": {},
   "outputs": [],
   "source": [
    "from sklearn.metrics import mean_squared_error\n",
    "from sklearn.metrics import r2_score\n",
    "\n",
    "\n",
    "# Plot the predictions against the actual values\n",
    "plot_predictions(predictions, test)\n",
    "\n",
    "# Calculate the RMSE, MAPE, MAE, and R2 score\n",
    "calculate_metrics(predictions, test)"
   ]
  },
  {
   "cell_type": "code",
   "execution_count": null,
   "id": "d8b2b05c",
   "metadata": {},
   "outputs": [],
   "source": [
    "# Generate predictions for the entire dataset\n",
    "predictions_full = model_fit.predict(start=0, end=len(df) - 1)"
   ]
  },
  {
   "cell_type": "code",
   "execution_count": null,
   "id": "01fcfffb",
   "metadata": {},
   "outputs": [],
   "source": [
    "# Plot the entire time series with the predictions\n",
    "plot_predictions(predictions_full, df)"
   ]
  },
  {
   "cell_type": "code",
   "execution_count": null,
   "id": "65948f20",
   "metadata": {},
   "outputs": [],
   "source": [
    "# Predict the sentiment score for the next 7 days\n",
    "predictions_next_week = model_fit.predict(start=len(df), end=len(df) + 6)\n",
    "predictions_next_week = scaler.inverse_transform(predictions_next_week.values.reshape(-1,1))\n",
    "predictions_next_week = pd.DataFrame(predictions_next_week, columns=['score'])\n",
    "predictions_next_week['date'] = pd.date_range(start=df.index.max() + pd.Timedelta(days=1), end=df.index.max() + pd.Timedelta(days=7))\n",
    "predictions_next_week.set_index('date', inplace=True)\n",
    "predictions_next_week"
   ]
  },
  {
   "cell_type": "code",
   "execution_count": null,
   "id": "67936d0b",
   "metadata": {},
   "outputs": [],
   "source": [
    "# Predict the sentiment score for the next 31 days\n",
    "predictions_next_month = model_fit.predict(start=len(df), end=len(df) + 30)\n",
    "predictions_next_month = scaler.inverse_transform(predictions_next_month.values.reshape(-1,1))\n",
    "predictions_next_month = pd.DataFrame(predictions_next_month, columns=['score'])\n",
    "predictions_next_month['date'] = pd.date_range(start=df.index.max() + pd.Timedelta(days=1), end=df.index.max() + pd.Timedelta(days=31))\n",
    "predictions_next_month.set_index('date', inplace=True)\n",
    "predictions_next_month"
   ]
  },
  {
   "cell_type": "code",
   "execution_count": null,
   "id": "56a79577",
   "metadata": {},
   "outputs": [],
   "source": [
    "# 3 months\n",
    "predictions_next_3months = model_fit.predict(start=len(df), end=len(df) + 89)\n",
    "predictions_next_3months = scaler.inverse_transform(predictions_next_3months.values.reshape(-1,1))\n",
    "predictions_next_3months = pd.DataFrame(predictions_next_3months, columns=['score'])\n",
    "predictions_next_3months['date'] = pd.date_range(start=df.index.max() + pd.Timedelta(days=1), end=df.index.max() + pd.Timedelta(days=90))\n",
    "predictions_next_3months.set_index('date', inplace=True)\n",
    "predictions_next_3months"
   ]
  },
  {
   "cell_type": "code",
   "execution_count": null,
   "id": "71796086",
   "metadata": {},
   "outputs": [],
   "source": [
    "# Plot the entire time series with the predictions\n",
    "plt.figure(figsize=(20,10))\n",
    "plt.plot(df['date'], df['score'], label='Actual')\n",
    "plt.plot(predictions_next_3months, color='red', label='Predicted')\n",
    "plt.xlabel('Date')\n",
    "plt.ylabel('Sentiment Score')\n",
    "plt.title('Actual vs Predicted Sentiment Score')\n",
    "plt.legend()\n",
    "plt.show()"
   ]
  },
  {
   "cell_type": "code",
   "execution_count": null,
   "id": "01a2508d",
   "metadata": {},
   "outputs": [],
   "source": []
  }
 ],
 "metadata": {
  "kernelspec": {
   "display_name": "Python 3 (ipykernel)",
   "language": "python",
   "name": "python3"
  },
  "language_info": {
   "codemirror_mode": {
    "name": "ipython",
    "version": 3
   },
   "file_extension": ".py",
   "mimetype": "text/x-python",
   "name": "python",
   "nbconvert_exporter": "python",
   "pygments_lexer": "ipython3",
   "version": "3.11.4"
  }
 },
 "nbformat": 4,
 "nbformat_minor": 5
}
