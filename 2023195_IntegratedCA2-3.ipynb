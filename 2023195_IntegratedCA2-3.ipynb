{
 "cells": [
  {
   "cell_type": "markdown",
   "id": "053f38e5",
   "metadata": {},
   "source": [
    "## Assessment Title: Integrated CA2\n",
    "\n",
    "## Lecturer Name: David McQuaid & Muhammad Iqbal\n",
    "\n",
    "## Student Full Name & Student ID: Deniz OZSOY UGUR - 2023195"
   ]
  },
  {
   "cell_type": "markdown",
   "id": "95aef914",
   "metadata": {},
   "source": [
    "### Link to Dataset\n",
    "\n",
    "ProjectTweets.csv"
   ]
  },
  {
   "cell_type": "markdown",
   "id": "bf84e26a",
   "metadata": {},
   "source": [
    "### GitHub Repository: \n",
    "\n",
    "CCT-Dublin Link:\n",
    "\n",
    "https://github.com/CCT-Dublin/adv-data-big-data-ft-ca2-denizozsoyugur\n",
    "\n",
    "The link used since the beginning of the project:\n",
    "\n",
    "https://github.com/denizozsoyugur/2023195_IntegratedCA2\n",
    "\n"
   ]
  },
  {
   "cell_type": "markdown",
   "id": "17c4ca4b",
   "metadata": {},
   "source": [
    "## Inital Data Processing"
   ]
  },
  {
   "cell_type": "code",
   "execution_count": 1,
   "id": "cd860375",
   "metadata": {},
   "outputs": [],
   "source": [
    "#pip install statsmodels"
   ]
  },
  {
   "cell_type": "code",
   "execution_count": 2,
   "id": "fc9e7549",
   "metadata": {},
   "outputs": [],
   "source": [
    "#pip install pandas matplotlib"
   ]
  },
  {
   "cell_type": "code",
   "execution_count": 3,
   "id": "7cbb29ef",
   "metadata": {},
   "outputs": [],
   "source": [
    "#pip install dash dash-core-components dash-html-components dash-table plotly"
   ]
  },
  {
   "cell_type": "code",
   "execution_count": 4,
   "id": "5e8f6abb",
   "metadata": {},
   "outputs": [],
   "source": [
    "#pip install dash-bootstrap-components"
   ]
  },
  {
   "cell_type": "code",
   "execution_count": 5,
   "id": "d8ce7478",
   "metadata": {},
   "outputs": [],
   "source": [
    "#pip install plotly"
   ]
  },
  {
   "cell_type": "code",
   "execution_count": 6,
   "id": "8c1985a8",
   "metadata": {},
   "outputs": [],
   "source": [
    "#pip install numpy"
   ]
  },
  {
   "cell_type": "code",
   "execution_count": 7,
   "id": "aae2b15b",
   "metadata": {},
   "outputs": [],
   "source": [
    "#pip install pandas"
   ]
  },
  {
   "cell_type": "code",
   "execution_count": 8,
   "id": "f9a7be24",
   "metadata": {},
   "outputs": [],
   "source": [
    "#pip install pmdarima"
   ]
  },
  {
   "cell_type": "code",
   "execution_count": 9,
   "id": "2ece195c",
   "metadata": {},
   "outputs": [],
   "source": [
    "#pip install transformers"
   ]
  },
  {
   "cell_type": "code",
   "execution_count": 10,
   "id": "ff044361",
   "metadata": {},
   "outputs": [],
   "source": [
    "#pip install --upgrade transformers"
   ]
  },
  {
   "cell_type": "code",
   "execution_count": 11,
   "id": "73b4395a",
   "metadata": {},
   "outputs": [],
   "source": [
    "#pip install numpy==1.24.0"
   ]
  },
  {
   "cell_type": "code",
   "execution_count": 12,
   "id": "a1c9cc1c",
   "metadata": {},
   "outputs": [],
   "source": [
    "#pip install torch"
   ]
  },
  {
   "cell_type": "code",
   "execution_count": 13,
   "id": "202cf722",
   "metadata": {},
   "outputs": [],
   "source": [
    "#pip install mysql-connector-python"
   ]
  },
  {
   "cell_type": "code",
   "execution_count": 14,
   "id": "413710cb",
   "metadata": {},
   "outputs": [],
   "source": [
    "#pip install -U pandas==1.5.3"
   ]
  },
  {
   "cell_type": "code",
   "execution_count": 15,
   "id": "22339888",
   "metadata": {},
   "outputs": [],
   "source": [
    "# Import libraries\n",
    "\n",
    "import numpy as np\n",
    "import pandas as pd\n",
    "import plotly.express as px\n",
    "import calendar\n",
    "import re\n",
    "\n",
    "from dateutil.parser import parse \n",
    "import matplotlib as mpl\n",
    "\n",
    "import numpy as np\n",
    "import matplotlib.pyplot as plt\n",
    "from pyspark.sql.functions import col\n",
    "import mysql.connector\n",
    "from pyspark import SparkConf\n",
    "from pyspark.conf import SparkConf\n",
    "from pyspark.sql import SparkSession, functions as F\n",
    "from pyspark.sql.functions import udf, col"
   ]
  },
  {
   "cell_type": "code",
   "execution_count": 16,
   "id": "e5b25bef",
   "metadata": {},
   "outputs": [],
   "source": [
    "from pyspark.ml import Pipeline\n",
    "from pyspark.ml.classification import LogisticRegression\n",
    "from pyspark.ml.evaluation import BinaryClassificationEvaluator\n",
    "from pyspark.ml.feature import HashingTF, Tokenizer\n",
    "from pyspark.ml.tuning import CrossValidator, ParamGridBuilder\n",
    "from pyspark.sql.functions import udf\n",
    "from pyspark.sql.types import StringType\n",
    "from pyspark.sql import SparkSession\n",
    "import mysql.connector\n",
    "import pandas as pd\n",
    "from pyspark.sql.functions import udf\n",
    "from pyspark.sql.types import StringType\n",
    "from pyspark.sql.types import StructType, StructField, StringType, IntegerType"
   ]
  },
  {
   "cell_type": "code",
   "execution_count": 2,
   "id": "32bf20ed",
   "metadata": {},
   "outputs": [],
   "source": [
    "# warnings\n",
    "\n",
    "warnings.filterwarnings('ignore')  "
   ]
  },
  {
   "cell_type": "code",
   "execution_count": 17,
   "id": "d97ddbc2",
   "metadata": {},
   "outputs": [],
   "source": [
    "df = pd.read_csv('/home/hduser/Desktop/ProjectTweets.csv')"
   ]
  },
  {
   "cell_type": "raw",
   "id": "1ed71643",
   "metadata": {},
   "source": [
    "    • ids: The id of the tweet (eg. 4587)\n",
    "    \n",
    "    • date: the date of the tweet (eg. Sat May 16 23:58:44 UTC 2009)\n",
    "    \n",
    "    • flag: The query (eg. lyx). If there is no query, then this value is NO_QUERY.\n",
    "    \n",
    "    • user: the user that tweeted (eg. bobthebuilder)\n",
    "    \n",
    "    • text: the text of the tweet (eg. Lyx is cool)"
   ]
  },
  {
   "cell_type": "code",
   "execution_count": 18,
   "id": "751b515c",
   "metadata": {},
   "outputs": [],
   "source": [
    "df.columns = ['indx','ids','date','flag','user','text']"
   ]
  },
  {
   "cell_type": "code",
   "execution_count": 19,
   "id": "b7070d3a",
   "metadata": {},
   "outputs": [],
   "source": [
    "df = df.iloc[:,1:]"
   ]
  },
  {
   "cell_type": "code",
   "execution_count": 20,
   "id": "11a83b70",
   "metadata": {},
   "outputs": [
    {
     "data": {
      "text/html": [
       "<div>\n",
       "<style scoped>\n",
       "    .dataframe tbody tr th:only-of-type {\n",
       "        vertical-align: middle;\n",
       "    }\n",
       "\n",
       "    .dataframe tbody tr th {\n",
       "        vertical-align: top;\n",
       "    }\n",
       "\n",
       "    .dataframe thead th {\n",
       "        text-align: right;\n",
       "    }\n",
       "</style>\n",
       "<table border=\"1\" class=\"dataframe\">\n",
       "  <thead>\n",
       "    <tr style=\"text-align: right;\">\n",
       "      <th></th>\n",
       "      <th>ids</th>\n",
       "      <th>date</th>\n",
       "      <th>flag</th>\n",
       "      <th>user</th>\n",
       "      <th>text</th>\n",
       "    </tr>\n",
       "  </thead>\n",
       "  <tbody>\n",
       "    <tr>\n",
       "      <th>0</th>\n",
       "      <td>1467810672</td>\n",
       "      <td>Mon Apr 06 22:19:49 PDT 2009</td>\n",
       "      <td>NO_QUERY</td>\n",
       "      <td>scotthamilton</td>\n",
       "      <td>is upset that he can't update his Facebook by ...</td>\n",
       "    </tr>\n",
       "    <tr>\n",
       "      <th>1</th>\n",
       "      <td>1467810917</td>\n",
       "      <td>Mon Apr 06 22:19:53 PDT 2009</td>\n",
       "      <td>NO_QUERY</td>\n",
       "      <td>mattycus</td>\n",
       "      <td>@Kenichan I dived many times for the ball. Man...</td>\n",
       "    </tr>\n",
       "    <tr>\n",
       "      <th>2</th>\n",
       "      <td>1467811184</td>\n",
       "      <td>Mon Apr 06 22:19:57 PDT 2009</td>\n",
       "      <td>NO_QUERY</td>\n",
       "      <td>ElleCTF</td>\n",
       "      <td>my whole body feels itchy and like its on fire</td>\n",
       "    </tr>\n",
       "    <tr>\n",
       "      <th>3</th>\n",
       "      <td>1467811193</td>\n",
       "      <td>Mon Apr 06 22:19:57 PDT 2009</td>\n",
       "      <td>NO_QUERY</td>\n",
       "      <td>Karoli</td>\n",
       "      <td>@nationwideclass no, it's not behaving at all....</td>\n",
       "    </tr>\n",
       "    <tr>\n",
       "      <th>4</th>\n",
       "      <td>1467811372</td>\n",
       "      <td>Mon Apr 06 22:20:00 PDT 2009</td>\n",
       "      <td>NO_QUERY</td>\n",
       "      <td>joy_wolf</td>\n",
       "      <td>@Kwesidei not the whole crew</td>\n",
       "    </tr>\n",
       "  </tbody>\n",
       "</table>\n",
       "</div>"
      ],
      "text/plain": [
       "          ids                          date      flag           user  \\\n",
       "0  1467810672  Mon Apr 06 22:19:49 PDT 2009  NO_QUERY  scotthamilton   \n",
       "1  1467810917  Mon Apr 06 22:19:53 PDT 2009  NO_QUERY       mattycus   \n",
       "2  1467811184  Mon Apr 06 22:19:57 PDT 2009  NO_QUERY        ElleCTF   \n",
       "3  1467811193  Mon Apr 06 22:19:57 PDT 2009  NO_QUERY         Karoli   \n",
       "4  1467811372  Mon Apr 06 22:20:00 PDT 2009  NO_QUERY       joy_wolf   \n",
       "\n",
       "                                                text  \n",
       "0  is upset that he can't update his Facebook by ...  \n",
       "1  @Kenichan I dived many times for the ball. Man...  \n",
       "2    my whole body feels itchy and like its on fire   \n",
       "3  @nationwideclass no, it's not behaving at all....  \n",
       "4                      @Kwesidei not the whole crew   "
      ]
     },
     "execution_count": 20,
     "metadata": {},
     "output_type": "execute_result"
    }
   ],
   "source": [
    "df.head(5)"
   ]
  },
  {
   "cell_type": "code",
   "execution_count": 21,
   "id": "f54f91f4",
   "metadata": {},
   "outputs": [
    {
     "data": {
      "text/html": [
       "<div>\n",
       "<style scoped>\n",
       "    .dataframe tbody tr th:only-of-type {\n",
       "        vertical-align: middle;\n",
       "    }\n",
       "\n",
       "    .dataframe tbody tr th {\n",
       "        vertical-align: top;\n",
       "    }\n",
       "\n",
       "    .dataframe thead th {\n",
       "        text-align: right;\n",
       "    }\n",
       "</style>\n",
       "<table border=\"1\" class=\"dataframe\">\n",
       "  <thead>\n",
       "    <tr style=\"text-align: right;\">\n",
       "      <th></th>\n",
       "      <th>ids</th>\n",
       "      <th>date</th>\n",
       "      <th>flag</th>\n",
       "      <th>user</th>\n",
       "      <th>text</th>\n",
       "    </tr>\n",
       "  </thead>\n",
       "  <tbody>\n",
       "    <tr>\n",
       "      <th>count</th>\n",
       "      <td>1.599999e+06</td>\n",
       "      <td>1599999</td>\n",
       "      <td>1599999</td>\n",
       "      <td>1599999</td>\n",
       "      <td>1599999</td>\n",
       "    </tr>\n",
       "    <tr>\n",
       "      <th>unique</th>\n",
       "      <td>NaN</td>\n",
       "      <td>774362</td>\n",
       "      <td>1</td>\n",
       "      <td>659775</td>\n",
       "      <td>1581465</td>\n",
       "    </tr>\n",
       "    <tr>\n",
       "      <th>top</th>\n",
       "      <td>NaN</td>\n",
       "      <td>Mon Jun 15 12:53:14 PDT 2009</td>\n",
       "      <td>NO_QUERY</td>\n",
       "      <td>lost_dog</td>\n",
       "      <td>isPlayer Has Died! Sorry</td>\n",
       "    </tr>\n",
       "    <tr>\n",
       "      <th>freq</th>\n",
       "      <td>NaN</td>\n",
       "      <td>20</td>\n",
       "      <td>1599999</td>\n",
       "      <td>549</td>\n",
       "      <td>210</td>\n",
       "    </tr>\n",
       "    <tr>\n",
       "      <th>mean</th>\n",
       "      <td>1.998818e+09</td>\n",
       "      <td>NaN</td>\n",
       "      <td>NaN</td>\n",
       "      <td>NaN</td>\n",
       "      <td>NaN</td>\n",
       "    </tr>\n",
       "    <tr>\n",
       "      <th>std</th>\n",
       "      <td>1.935757e+08</td>\n",
       "      <td>NaN</td>\n",
       "      <td>NaN</td>\n",
       "      <td>NaN</td>\n",
       "      <td>NaN</td>\n",
       "    </tr>\n",
       "    <tr>\n",
       "      <th>min</th>\n",
       "      <td>1.467811e+09</td>\n",
       "      <td>NaN</td>\n",
       "      <td>NaN</td>\n",
       "      <td>NaN</td>\n",
       "      <td>NaN</td>\n",
       "    </tr>\n",
       "    <tr>\n",
       "      <th>25%</th>\n",
       "      <td>1.956916e+09</td>\n",
       "      <td>NaN</td>\n",
       "      <td>NaN</td>\n",
       "      <td>NaN</td>\n",
       "      <td>NaN</td>\n",
       "    </tr>\n",
       "    <tr>\n",
       "      <th>50%</th>\n",
       "      <td>2.002102e+09</td>\n",
       "      <td>NaN</td>\n",
       "      <td>NaN</td>\n",
       "      <td>NaN</td>\n",
       "      <td>NaN</td>\n",
       "    </tr>\n",
       "    <tr>\n",
       "      <th>75%</th>\n",
       "      <td>2.177059e+09</td>\n",
       "      <td>NaN</td>\n",
       "      <td>NaN</td>\n",
       "      <td>NaN</td>\n",
       "      <td>NaN</td>\n",
       "    </tr>\n",
       "    <tr>\n",
       "      <th>max</th>\n",
       "      <td>2.329206e+09</td>\n",
       "      <td>NaN</td>\n",
       "      <td>NaN</td>\n",
       "      <td>NaN</td>\n",
       "      <td>NaN</td>\n",
       "    </tr>\n",
       "  </tbody>\n",
       "</table>\n",
       "</div>"
      ],
      "text/plain": [
       "                 ids                          date      flag      user  \\\n",
       "count   1.599999e+06                       1599999   1599999   1599999   \n",
       "unique           NaN                        774362         1    659775   \n",
       "top              NaN  Mon Jun 15 12:53:14 PDT 2009  NO_QUERY  lost_dog   \n",
       "freq             NaN                            20   1599999       549   \n",
       "mean    1.998818e+09                           NaN       NaN       NaN   \n",
       "std     1.935757e+08                           NaN       NaN       NaN   \n",
       "min     1.467811e+09                           NaN       NaN       NaN   \n",
       "25%     1.956916e+09                           NaN       NaN       NaN   \n",
       "50%     2.002102e+09                           NaN       NaN       NaN   \n",
       "75%     2.177059e+09                           NaN       NaN       NaN   \n",
       "max     2.329206e+09                           NaN       NaN       NaN   \n",
       "\n",
       "                             text  \n",
       "count                     1599999  \n",
       "unique                    1581465  \n",
       "top     isPlayer Has Died! Sorry   \n",
       "freq                          210  \n",
       "mean                          NaN  \n",
       "std                           NaN  \n",
       "min                           NaN  \n",
       "25%                           NaN  \n",
       "50%                           NaN  \n",
       "75%                           NaN  \n",
       "max                           NaN  "
      ]
     },
     "execution_count": 21,
     "metadata": {},
     "output_type": "execute_result"
    }
   ],
   "source": [
    "df.describe(include ='all')"
   ]
  },
  {
   "cell_type": "code",
   "execution_count": 22,
   "id": "47314df2",
   "metadata": {},
   "outputs": [
    {
     "name": "stderr",
     "output_type": "stream",
     "text": [
      "/tmp/ipykernel_15208/3213551197.py:1: FutureWarning: The default value of regex will change from True to False in a future version.\n",
      "  df.iloc[:,4:] = df.iloc[:,4:].apply(lambda x: x.str.replace(r'[^A-Za-z0-9]+',''))\n"
     ]
    }
   ],
   "source": [
    "df.iloc[:,4:] = df.iloc[:,4:].apply(lambda x: x.str.replace(r'[^A-Za-z0-9]+',''))"
   ]
  },
  {
   "cell_type": "code",
   "execution_count": 23,
   "id": "37d6d7af",
   "metadata": {},
   "outputs": [
    {
     "name": "stderr",
     "output_type": "stream",
     "text": [
      "/tmp/ipykernel_15208/1778178343.py:1: FutureWarning: The default value of regex will change from True to False in a future version. In addition, single character regular expressions will *not* be treated as literal strings when regex=True.\n",
      "  df.iloc[:,4:] = df.iloc[:,4:].apply(lambda x: x.str.replace('\\\\',''))\n"
     ]
    }
   ],
   "source": [
    "df.iloc[:,4:] = df.iloc[:,4:].apply(lambda x: x.str.replace('\\\\',''))"
   ]
  },
  {
   "cell_type": "code",
   "execution_count": 24,
   "id": "3ae215f5",
   "metadata": {},
   "outputs": [],
   "source": [
    "df = df.drop_duplicates()"
   ]
  },
  {
   "cell_type": "code",
   "execution_count": 25,
   "id": "421ef13a",
   "metadata": {},
   "outputs": [
    {
     "data": {
      "text/html": [
       "<div>\n",
       "<style scoped>\n",
       "    .dataframe tbody tr th:only-of-type {\n",
       "        vertical-align: middle;\n",
       "    }\n",
       "\n",
       "    .dataframe tbody tr th {\n",
       "        vertical-align: top;\n",
       "    }\n",
       "\n",
       "    .dataframe thead th {\n",
       "        text-align: right;\n",
       "    }\n",
       "</style>\n",
       "<table border=\"1\" class=\"dataframe\">\n",
       "  <thead>\n",
       "    <tr style=\"text-align: right;\">\n",
       "      <th></th>\n",
       "      <th>ids</th>\n",
       "      <th>date</th>\n",
       "      <th>flag</th>\n",
       "      <th>user</th>\n",
       "      <th>text</th>\n",
       "    </tr>\n",
       "  </thead>\n",
       "  <tbody>\n",
       "    <tr>\n",
       "      <th>count</th>\n",
       "      <td>1.598314e+06</td>\n",
       "      <td>1598314</td>\n",
       "      <td>1598314</td>\n",
       "      <td>1598314</td>\n",
       "      <td>1598314</td>\n",
       "    </tr>\n",
       "    <tr>\n",
       "      <th>unique</th>\n",
       "      <td>NaN</td>\n",
       "      <td>774362</td>\n",
       "      <td>1</td>\n",
       "      <td>659775</td>\n",
       "      <td>1573475</td>\n",
       "    </tr>\n",
       "    <tr>\n",
       "      <th>top</th>\n",
       "      <td>NaN</td>\n",
       "      <td>Mon Jun 15 12:53:14 PDT 2009</td>\n",
       "      <td>NO_QUERY</td>\n",
       "      <td>lost_dog</td>\n",
       "      <td>Goodmorning</td>\n",
       "    </tr>\n",
       "    <tr>\n",
       "      <th>freq</th>\n",
       "      <td>NaN</td>\n",
       "      <td>20</td>\n",
       "      <td>1598314</td>\n",
       "      <td>549</td>\n",
       "      <td>234</td>\n",
       "    </tr>\n",
       "    <tr>\n",
       "      <th>mean</th>\n",
       "      <td>1.998872e+09</td>\n",
       "      <td>NaN</td>\n",
       "      <td>NaN</td>\n",
       "      <td>NaN</td>\n",
       "      <td>NaN</td>\n",
       "    </tr>\n",
       "    <tr>\n",
       "      <th>std</th>\n",
       "      <td>1.935909e+08</td>\n",
       "      <td>NaN</td>\n",
       "      <td>NaN</td>\n",
       "      <td>NaN</td>\n",
       "      <td>NaN</td>\n",
       "    </tr>\n",
       "    <tr>\n",
       "      <th>min</th>\n",
       "      <td>1.467811e+09</td>\n",
       "      <td>NaN</td>\n",
       "      <td>NaN</td>\n",
       "      <td>NaN</td>\n",
       "      <td>NaN</td>\n",
       "    </tr>\n",
       "    <tr>\n",
       "      <th>25%</th>\n",
       "      <td>1.956927e+09</td>\n",
       "      <td>NaN</td>\n",
       "      <td>NaN</td>\n",
       "      <td>NaN</td>\n",
       "      <td>NaN</td>\n",
       "    </tr>\n",
       "    <tr>\n",
       "      <th>50%</th>\n",
       "      <td>2.002114e+09</td>\n",
       "      <td>NaN</td>\n",
       "      <td>NaN</td>\n",
       "      <td>NaN</td>\n",
       "      <td>NaN</td>\n",
       "    </tr>\n",
       "    <tr>\n",
       "      <th>75%</th>\n",
       "      <td>2.177094e+09</td>\n",
       "      <td>NaN</td>\n",
       "      <td>NaN</td>\n",
       "      <td>NaN</td>\n",
       "      <td>NaN</td>\n",
       "    </tr>\n",
       "    <tr>\n",
       "      <th>max</th>\n",
       "      <td>2.329206e+09</td>\n",
       "      <td>NaN</td>\n",
       "      <td>NaN</td>\n",
       "      <td>NaN</td>\n",
       "      <td>NaN</td>\n",
       "    </tr>\n",
       "  </tbody>\n",
       "</table>\n",
       "</div>"
      ],
      "text/plain": [
       "                 ids                          date      flag      user  \\\n",
       "count   1.598314e+06                       1598314   1598314   1598314   \n",
       "unique           NaN                        774362         1    659775   \n",
       "top              NaN  Mon Jun 15 12:53:14 PDT 2009  NO_QUERY  lost_dog   \n",
       "freq             NaN                            20   1598314       549   \n",
       "mean    1.998872e+09                           NaN       NaN       NaN   \n",
       "std     1.935909e+08                           NaN       NaN       NaN   \n",
       "min     1.467811e+09                           NaN       NaN       NaN   \n",
       "25%     1.956927e+09                           NaN       NaN       NaN   \n",
       "50%     2.002114e+09                           NaN       NaN       NaN   \n",
       "75%     2.177094e+09                           NaN       NaN       NaN   \n",
       "max     2.329206e+09                           NaN       NaN       NaN   \n",
       "\n",
       "               text  \n",
       "count       1598314  \n",
       "unique      1573475  \n",
       "top     Goodmorning  \n",
       "freq            234  \n",
       "mean            NaN  \n",
       "std             NaN  \n",
       "min             NaN  \n",
       "25%             NaN  \n",
       "50%             NaN  \n",
       "75%             NaN  \n",
       "max             NaN  "
      ]
     },
     "execution_count": 25,
     "metadata": {},
     "output_type": "execute_result"
    }
   ],
   "source": [
    "df.describe(include ='all')"
   ]
  },
  {
   "cell_type": "code",
   "execution_count": 26,
   "id": "bd682c4e",
   "metadata": {},
   "outputs": [
    {
     "name": "stdout",
     "output_type": "stream",
     "text": [
      "24/05/09 02:40:26 WARN SparkSession: Using an existing Spark session; only runtime SQL configurations will take effect.\n"
     ]
    }
   ],
   "source": [
    "# Create the spark Session\n",
    "spark = SparkSession.builder.appName(\"sentiment_load\").config(\"spark.driver.extraClassPath\",\"/usr/local/spark/jars/mysql-connector-java-8.0.33.jar\").getOrCreate()"
   ]
  },
  {
   "cell_type": "raw",
   "id": "4a995796",
   "metadata": {},
   "source": [
    "from transformers import pipeline"
   ]
  },
  {
   "cell_type": "raw",
   "id": "8bfa5f8d",
   "metadata": {},
   "source": [
    "# Create the sentiment analysis function to be applied to the tweets\n",
    "sentiment_analyzer = pipeline(\"sentiment-analysis\", model = \"distilbert-base-uncased-finetuned-sst-2-english\")"
   ]
  },
  {
   "cell_type": "code",
   "execution_count": 27,
   "id": "610944a4",
   "metadata": {},
   "outputs": [],
   "source": [
    "# Create a user defined fucntion (UDF) to apply the sentiment analysis to the select text of the tweets df\n",
    "def get_sentiment_score(text):\n",
    "    result = sentiment_analyzer(text)\n",
    "    score = result[0][\"score\"]\n",
    "    return score"
   ]
  },
  {
   "cell_type": "code",
   "execution_count": 28,
   "id": "6c8a3c1a",
   "metadata": {},
   "outputs": [],
   "source": [
    "# Create a user defined fucntion (UDF) to create a new date column with an abbreviated value\n",
    "def extract_and_concat(input_string):\n",
    "    first_5 = input_string[:10]\n",
    "    last_4 = input_string[-4:]\n",
    "    return f\"{first_5} {last_4}\""
   ]
  },
  {
   "cell_type": "code",
   "execution_count": 29,
   "id": "538dbebf",
   "metadata": {},
   "outputs": [
    {
     "data": {
      "text/plain": [
       "<function __main__.extract_and_concat(input_string)>"
      ]
     },
     "execution_count": 29,
     "metadata": {},
     "output_type": "execute_result"
    }
   ],
   "source": [
    "# Register the UDF's with the current spark session\n",
    "spark.udf.register(\"get_sentiment_score\", get_sentiment_score)\n",
    "spark.udf.register(\"extract_and_concat\", extract_and_concat)"
   ]
  },
  {
   "cell_type": "code",
   "execution_count": 30,
   "id": "44aed017",
   "metadata": {},
   "outputs": [],
   "source": [
    "# Set the MySQL connection settings\n",
    "jdbc_url = \"jdbc:mysql://localhost:3306/Tweets\"\n",
    "connection_properties = {\n",
    "    \"user\":\"root\",\n",
    "    \"password\":\"password\",\n",
    "    \"driver\":\"com.mysql.cj.jdbc.Driver\"\n",
    "}"
   ]
  },
  {
   "cell_type": "raw",
   "id": "5708c0d3",
   "metadata": {},
   "source": [
    "# create the spark df by reading the data from the MySQL table\n",
    "df = spark.read.jdbc(\n",
    "    url = jdbc_url, \n",
    "    table = \"tweetable\", \n",
    "    properties = connection_properties\n",
    ")"
   ]
  },
  {
   "cell_type": "raw",
   "id": "56caae9c",
   "metadata": {},
   "source": [
    "# Apply the sentiment analysis UDF to the text column, and create a new column \"sentiment_score\", with the results\n",
    "df = df.withColumn(\"sentiment_score\", udf(get_sentiment_score)(df[\"text\"]))"
   ]
  },
  {
   "cell_type": "code",
   "execution_count": 34,
   "id": "5bd9ef2e",
   "metadata": {},
   "outputs": [],
   "source": [
    "# Apply the date abbreviation UDF to the date column, and create a new column \"full_date\", with the results\n",
    "df['new_date'] = df['date'].apply(extract_and_concat)"
   ]
  },
  {
   "cell_type": "raw",
   "id": "a1a3a817",
   "metadata": {},
   "source": [
    "# Check the sentiment_score column data type\n",
    "df.schema[\"sentiment_score\"].dataType"
   ]
  },
  {
   "cell_type": "raw",
   "id": "48cc877a",
   "metadata": {},
   "source": [
    "print(df['sentiment_score'].dtype)"
   ]
  },
  {
   "cell_type": "code",
   "execution_count": null,
   "id": "b48ee451",
   "metadata": {},
   "outputs": [],
   "source": []
  },
  {
   "cell_type": "code",
   "execution_count": null,
   "id": "ef0e18e7",
   "metadata": {},
   "outputs": [],
   "source": []
  },
  {
   "cell_type": "code",
   "execution_count": null,
   "id": "b45b4b74",
   "metadata": {},
   "outputs": [],
   "source": []
  },
  {
   "cell_type": "code",
   "execution_count": null,
   "id": "8b6fa7e9",
   "metadata": {},
   "outputs": [],
   "source": []
  },
  {
   "cell_type": "code",
   "execution_count": null,
   "id": "50522832",
   "metadata": {},
   "outputs": [],
   "source": []
  },
  {
   "cell_type": "code",
   "execution_count": null,
   "id": "d35e153f",
   "metadata": {},
   "outputs": [],
   "source": []
  },
  {
   "cell_type": "code",
   "execution_count": null,
   "id": "830dec46",
   "metadata": {},
   "outputs": [],
   "source": []
  },
  {
   "cell_type": "code",
   "execution_count": null,
   "id": "3547965e",
   "metadata": {},
   "outputs": [],
   "source": []
  }
 ],
 "metadata": {
  "kernelspec": {
   "display_name": "Python 3 (ipykernel)",
   "language": "python",
   "name": "python3"
  },
  "language_info": {
   "codemirror_mode": {
    "name": "ipython",
    "version": 3
   },
   "file_extension": ".py",
   "mimetype": "text/x-python",
   "name": "python",
   "nbconvert_exporter": "python",
   "pygments_lexer": "ipython3",
   "version": "3.10.12"
  }
 },
 "nbformat": 4,
 "nbformat_minor": 5
}
